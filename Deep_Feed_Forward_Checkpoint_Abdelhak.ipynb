{
 "cells": [
  {
   "cell_type": "markdown",
   "id": "c4d9a7b6",
   "metadata": {},
   "source": [
    "# Deep Feed Forward Checkpoint"
   ]
  },
  {
   "cell_type": "code",
   "execution_count": 1,
   "id": "5cb9429f",
   "metadata": {},
   "outputs": [],
   "source": [
    "# First of all, we import all the python libraries we need\n",
    "import pandas as pd\n",
    "import numpy as np\n",
    "import matplotlib.pyplot as plt\n",
    "import seaborn as sns\n",
    "from sklearn.preprocessing import MinMaxScaler\n",
    "from sklearn.model_selection import train_test_split\n",
    "from sklearn.metrics import confusion_matrix\n",
    "\n",
    "import keras\n",
    "from keras.models import Sequential\n",
    "from keras import layers\n",
    "from keras.layers import Dense, Dropout"
   ]
  },
  {
   "cell_type": "markdown",
   "id": "2cb8f392",
   "metadata": {},
   "source": [
    "# 1. Data Exploration"
   ]
  },
  {
   "cell_type": "markdown",
   "id": "78cb2c58",
   "metadata": {},
   "source": [
    "### Import data"
   ]
  },
  {
   "cell_type": "code",
   "execution_count": 2,
   "id": "be16768b",
   "metadata": {
    "scrolled": true
   },
   "outputs": [
    {
     "data": {
      "text/html": [
       "<div>\n",
       "<style scoped>\n",
       "    .dataframe tbody tr th:only-of-type {\n",
       "        vertical-align: middle;\n",
       "    }\n",
       "\n",
       "    .dataframe tbody tr th {\n",
       "        vertical-align: top;\n",
       "    }\n",
       "\n",
       "    .dataframe thead th {\n",
       "        text-align: right;\n",
       "    }\n",
       "</style>\n",
       "<table border=\"1\" class=\"dataframe\">\n",
       "  <thead>\n",
       "    <tr style=\"text-align: right;\">\n",
       "      <th></th>\n",
       "      <th>age</th>\n",
       "      <th>job</th>\n",
       "      <th>marital</th>\n",
       "      <th>education</th>\n",
       "      <th>default</th>\n",
       "      <th>balance</th>\n",
       "      <th>housing</th>\n",
       "      <th>loan</th>\n",
       "      <th>contact</th>\n",
       "      <th>day</th>\n",
       "      <th>month</th>\n",
       "      <th>duration</th>\n",
       "      <th>campaign</th>\n",
       "      <th>pdays</th>\n",
       "      <th>previous</th>\n",
       "      <th>poutcome</th>\n",
       "      <th>deposit</th>\n",
       "    </tr>\n",
       "  </thead>\n",
       "  <tbody>\n",
       "    <tr>\n",
       "      <th>0</th>\n",
       "      <td>59</td>\n",
       "      <td>admin.</td>\n",
       "      <td>married</td>\n",
       "      <td>secondary</td>\n",
       "      <td>no</td>\n",
       "      <td>2343</td>\n",
       "      <td>yes</td>\n",
       "      <td>no</td>\n",
       "      <td>unknown</td>\n",
       "      <td>5</td>\n",
       "      <td>may</td>\n",
       "      <td>1042</td>\n",
       "      <td>1</td>\n",
       "      <td>-1</td>\n",
       "      <td>0</td>\n",
       "      <td>unknown</td>\n",
       "      <td>yes</td>\n",
       "    </tr>\n",
       "    <tr>\n",
       "      <th>1</th>\n",
       "      <td>56</td>\n",
       "      <td>admin.</td>\n",
       "      <td>married</td>\n",
       "      <td>secondary</td>\n",
       "      <td>no</td>\n",
       "      <td>45</td>\n",
       "      <td>no</td>\n",
       "      <td>no</td>\n",
       "      <td>unknown</td>\n",
       "      <td>5</td>\n",
       "      <td>may</td>\n",
       "      <td>1467</td>\n",
       "      <td>1</td>\n",
       "      <td>-1</td>\n",
       "      <td>0</td>\n",
       "      <td>unknown</td>\n",
       "      <td>yes</td>\n",
       "    </tr>\n",
       "    <tr>\n",
       "      <th>2</th>\n",
       "      <td>41</td>\n",
       "      <td>technician</td>\n",
       "      <td>married</td>\n",
       "      <td>secondary</td>\n",
       "      <td>no</td>\n",
       "      <td>1270</td>\n",
       "      <td>yes</td>\n",
       "      <td>no</td>\n",
       "      <td>unknown</td>\n",
       "      <td>5</td>\n",
       "      <td>may</td>\n",
       "      <td>1389</td>\n",
       "      <td>1</td>\n",
       "      <td>-1</td>\n",
       "      <td>0</td>\n",
       "      <td>unknown</td>\n",
       "      <td>yes</td>\n",
       "    </tr>\n",
       "    <tr>\n",
       "      <th>3</th>\n",
       "      <td>55</td>\n",
       "      <td>services</td>\n",
       "      <td>married</td>\n",
       "      <td>secondary</td>\n",
       "      <td>no</td>\n",
       "      <td>2476</td>\n",
       "      <td>yes</td>\n",
       "      <td>no</td>\n",
       "      <td>unknown</td>\n",
       "      <td>5</td>\n",
       "      <td>may</td>\n",
       "      <td>579</td>\n",
       "      <td>1</td>\n",
       "      <td>-1</td>\n",
       "      <td>0</td>\n",
       "      <td>unknown</td>\n",
       "      <td>yes</td>\n",
       "    </tr>\n",
       "    <tr>\n",
       "      <th>4</th>\n",
       "      <td>54</td>\n",
       "      <td>admin.</td>\n",
       "      <td>married</td>\n",
       "      <td>tertiary</td>\n",
       "      <td>no</td>\n",
       "      <td>184</td>\n",
       "      <td>no</td>\n",
       "      <td>no</td>\n",
       "      <td>unknown</td>\n",
       "      <td>5</td>\n",
       "      <td>may</td>\n",
       "      <td>673</td>\n",
       "      <td>2</td>\n",
       "      <td>-1</td>\n",
       "      <td>0</td>\n",
       "      <td>unknown</td>\n",
       "      <td>yes</td>\n",
       "    </tr>\n",
       "  </tbody>\n",
       "</table>\n",
       "</div>"
      ],
      "text/plain": [
       "   age         job  marital  education default  balance housing loan  contact  \\\n",
       "0   59      admin.  married  secondary      no     2343     yes   no  unknown   \n",
       "1   56      admin.  married  secondary      no       45      no   no  unknown   \n",
       "2   41  technician  married  secondary      no     1270     yes   no  unknown   \n",
       "3   55    services  married  secondary      no     2476     yes   no  unknown   \n",
       "4   54      admin.  married   tertiary      no      184      no   no  unknown   \n",
       "\n",
       "   day month  duration  campaign  pdays  previous poutcome deposit  \n",
       "0    5   may      1042         1     -1         0  unknown     yes  \n",
       "1    5   may      1467         1     -1         0  unknown     yes  \n",
       "2    5   may      1389         1     -1         0  unknown     yes  \n",
       "3    5   may       579         1     -1         0  unknown     yes  \n",
       "4    5   may       673         2     -1         0  unknown     yes  "
      ]
     },
     "execution_count": 2,
     "metadata": {},
     "output_type": "execute_result"
    }
   ],
   "source": [
    "bank = pd.read_csv(\"bank.csv\")\n",
    "bank.head()"
   ]
  },
  {
   "cell_type": "markdown",
   "id": "ffc834a2",
   "metadata": {},
   "source": [
    "### General information"
   ]
  },
  {
   "cell_type": "code",
   "execution_count": 3,
   "id": "41583301",
   "metadata": {
    "scrolled": false
   },
   "outputs": [
    {
     "name": "stdout",
     "output_type": "stream",
     "text": [
      "<class 'pandas.core.frame.DataFrame'>\n",
      "RangeIndex: 11162 entries, 0 to 11161\n",
      "Data columns (total 17 columns):\n",
      " #   Column     Non-Null Count  Dtype \n",
      "---  ------     --------------  ----- \n",
      " 0   age        11162 non-null  int64 \n",
      " 1   job        11162 non-null  object\n",
      " 2   marital    11162 non-null  object\n",
      " 3   education  11162 non-null  object\n",
      " 4   default    11162 non-null  object\n",
      " 5   balance    11162 non-null  int64 \n",
      " 6   housing    11162 non-null  object\n",
      " 7   loan       11162 non-null  object\n",
      " 8   contact    11162 non-null  object\n",
      " 9   day        11162 non-null  int64 \n",
      " 10  month      11162 non-null  object\n",
      " 11  duration   11162 non-null  int64 \n",
      " 12  campaign   11162 non-null  int64 \n",
      " 13  pdays      11162 non-null  int64 \n",
      " 14  previous   11162 non-null  int64 \n",
      " 15  poutcome   11162 non-null  object\n",
      " 16  deposit    11162 non-null  object\n",
      "dtypes: int64(7), object(10)\n",
      "memory usage: 1.4+ MB\n"
     ]
    }
   ],
   "source": [
    "bank.info()"
   ]
  },
  {
   "cell_type": "markdown",
   "id": "cf943f92",
   "metadata": {},
   "source": [
    "This dataset has 11162 examples and 17 columns (**16 features** + the target variable **deposit**). 7 of the columns are integers and 10 are objects.\n",
    "\n",
    "This dataset contains **banking marketing campaign data** and we can use it to optimize marketing campaigns to attract more customers to term **deposit subscription**.\n",
    "\n",
    "Columns descriptions :\n",
    "\n",
    "- **age**\n",
    "- **sex**\n",
    "- **job** : type of job (categorical: 'admin.','blue-collar','entrepreneur','housemaid','management','retired','self-employed','services','student','technician','unemployed','unknown')\n",
    "- **marital** : marital status (categorical: 'divorced','married','single','unknown'; note: 'divorced' means divorced or widowed)\n",
    "- **education** : (categorical: primary, secondary, tertiary and unknown)\n",
    "- **default** : has credit in default? (categorical: 'no','yes','unknown')\n",
    "- **balance** : Balance of the individual.\n",
    "- **housing** : has housing loan? (categorical: 'no','yes','unknown')\n",
    "- **loan** : has personal loan? (categorical: 'no','yes','unknown')\n",
    "- **contact** : contact communication type (categorical: 'cellular','telephone')\n",
    "- **day** : last contact day of the week (categorical: 'mon','tue','wed','thu','fri')\n",
    "- **month** : last contact month of year (categorical: 'jan', 'feb', 'mar', ..., 'nov', 'dec')\n",
    "- **duration** : last contact duration, in seconds (numeric).\n",
    "\n",
    "- **campaign** : number of contacts performed during this campaign and for this client (numeric, includes last contact)\n",
    "- **pdays** : number of days that passed by after the client was last contacted from a previous campaign (numeric; 999 means client was not previously contacted)\n",
    "- **previous** : number of contacts performed before this campaign and for this client (numeric)\n",
    "- **poutcome** : outcome of the previous marketing campaign (categorical: 'failure','nonexistent','success')\n",
    "- **deposit** : has the client subscribed a term deposit? (binary: 'yes','no')"
   ]
  },
  {
   "cell_type": "code",
   "execution_count": 4,
   "id": "858dbdbb",
   "metadata": {},
   "outputs": [
    {
     "data": {
      "text/plain": [
       "0"
      ]
     },
     "execution_count": 4,
     "metadata": {},
     "output_type": "execute_result"
    }
   ],
   "source": [
    "# Checking missing values\n",
    "bank.isnull().sum().sum()"
   ]
  },
  {
   "cell_type": "markdown",
   "id": "af38b07c",
   "metadata": {},
   "source": [
    "There are no missing values. Perfect!"
   ]
  },
  {
   "cell_type": "code",
   "execution_count": 5,
   "id": "4ab1d9d8",
   "metadata": {
    "scrolled": true
   },
   "outputs": [
    {
     "data": {
      "text/html": [
       "<div>\n",
       "<style scoped>\n",
       "    .dataframe tbody tr th:only-of-type {\n",
       "        vertical-align: middle;\n",
       "    }\n",
       "\n",
       "    .dataframe tbody tr th {\n",
       "        vertical-align: top;\n",
       "    }\n",
       "\n",
       "    .dataframe thead th {\n",
       "        text-align: right;\n",
       "    }\n",
       "</style>\n",
       "<table border=\"1\" class=\"dataframe\">\n",
       "  <thead>\n",
       "    <tr style=\"text-align: right;\">\n",
       "      <th></th>\n",
       "      <th>age</th>\n",
       "      <th>balance</th>\n",
       "      <th>day</th>\n",
       "      <th>duration</th>\n",
       "      <th>campaign</th>\n",
       "      <th>pdays</th>\n",
       "      <th>previous</th>\n",
       "    </tr>\n",
       "  </thead>\n",
       "  <tbody>\n",
       "    <tr>\n",
       "      <th>count</th>\n",
       "      <td>11162.000000</td>\n",
       "      <td>11162.000000</td>\n",
       "      <td>11162.000000</td>\n",
       "      <td>11162.000000</td>\n",
       "      <td>11162.000000</td>\n",
       "      <td>11162.000000</td>\n",
       "      <td>11162.000000</td>\n",
       "    </tr>\n",
       "    <tr>\n",
       "      <th>mean</th>\n",
       "      <td>41.231948</td>\n",
       "      <td>1528.538524</td>\n",
       "      <td>15.658036</td>\n",
       "      <td>371.993818</td>\n",
       "      <td>2.508421</td>\n",
       "      <td>51.330407</td>\n",
       "      <td>0.832557</td>\n",
       "    </tr>\n",
       "    <tr>\n",
       "      <th>std</th>\n",
       "      <td>11.913369</td>\n",
       "      <td>3225.413326</td>\n",
       "      <td>8.420740</td>\n",
       "      <td>347.128386</td>\n",
       "      <td>2.722077</td>\n",
       "      <td>108.758282</td>\n",
       "      <td>2.292007</td>\n",
       "    </tr>\n",
       "    <tr>\n",
       "      <th>min</th>\n",
       "      <td>18.000000</td>\n",
       "      <td>-6847.000000</td>\n",
       "      <td>1.000000</td>\n",
       "      <td>2.000000</td>\n",
       "      <td>1.000000</td>\n",
       "      <td>-1.000000</td>\n",
       "      <td>0.000000</td>\n",
       "    </tr>\n",
       "    <tr>\n",
       "      <th>25%</th>\n",
       "      <td>32.000000</td>\n",
       "      <td>122.000000</td>\n",
       "      <td>8.000000</td>\n",
       "      <td>138.000000</td>\n",
       "      <td>1.000000</td>\n",
       "      <td>-1.000000</td>\n",
       "      <td>0.000000</td>\n",
       "    </tr>\n",
       "    <tr>\n",
       "      <th>50%</th>\n",
       "      <td>39.000000</td>\n",
       "      <td>550.000000</td>\n",
       "      <td>15.000000</td>\n",
       "      <td>255.000000</td>\n",
       "      <td>2.000000</td>\n",
       "      <td>-1.000000</td>\n",
       "      <td>0.000000</td>\n",
       "    </tr>\n",
       "    <tr>\n",
       "      <th>75%</th>\n",
       "      <td>49.000000</td>\n",
       "      <td>1708.000000</td>\n",
       "      <td>22.000000</td>\n",
       "      <td>496.000000</td>\n",
       "      <td>3.000000</td>\n",
       "      <td>20.750000</td>\n",
       "      <td>1.000000</td>\n",
       "    </tr>\n",
       "    <tr>\n",
       "      <th>max</th>\n",
       "      <td>95.000000</td>\n",
       "      <td>81204.000000</td>\n",
       "      <td>31.000000</td>\n",
       "      <td>3881.000000</td>\n",
       "      <td>63.000000</td>\n",
       "      <td>854.000000</td>\n",
       "      <td>58.000000</td>\n",
       "    </tr>\n",
       "  </tbody>\n",
       "</table>\n",
       "</div>"
      ],
      "text/plain": [
       "                age       balance           day      duration      campaign  \\\n",
       "count  11162.000000  11162.000000  11162.000000  11162.000000  11162.000000   \n",
       "mean      41.231948   1528.538524     15.658036    371.993818      2.508421   \n",
       "std       11.913369   3225.413326      8.420740    347.128386      2.722077   \n",
       "min       18.000000  -6847.000000      1.000000      2.000000      1.000000   \n",
       "25%       32.000000    122.000000      8.000000    138.000000      1.000000   \n",
       "50%       39.000000    550.000000     15.000000    255.000000      2.000000   \n",
       "75%       49.000000   1708.000000     22.000000    496.000000      3.000000   \n",
       "max       95.000000  81204.000000     31.000000   3881.000000     63.000000   \n",
       "\n",
       "              pdays      previous  \n",
       "count  11162.000000  11162.000000  \n",
       "mean      51.330407      0.832557  \n",
       "std      108.758282      2.292007  \n",
       "min       -1.000000      0.000000  \n",
       "25%       -1.000000      0.000000  \n",
       "50%       -1.000000      0.000000  \n",
       "75%       20.750000      1.000000  \n",
       "max      854.000000     58.000000  "
      ]
     },
     "execution_count": 5,
     "metadata": {},
     "output_type": "execute_result"
    }
   ],
   "source": [
    "bank.describe()"
   ]
  },
  {
   "cell_type": "markdown",
   "id": "f7e09c23",
   "metadata": {},
   "source": [
    "- Mean Age is aproximately 41 years old. (Minimum: 18 years old and Maximum: 95 years old.)\n",
    "\n",
    "- The mean balance is 1528. However, the Standard Deviation (std) is a high number (32225) so we can understand through this that the balance is heavily distributed across the dataset."
   ]
  },
  {
   "cell_type": "markdown",
   "id": "acfcd2fc",
   "metadata": {},
   "source": [
    "### Categorical features exploration"
   ]
  },
  {
   "cell_type": "code",
   "execution_count": 6,
   "id": "2a151702",
   "metadata": {},
   "outputs": [],
   "source": [
    "# We need to convert some columns to \"category\" type\n",
    "\n",
    "cat_columns = ['job', 'marital', 'education', 'default', 'housing', 'loan', 'contact', 'month','poutcome']\n",
    "\n",
    "bank[cat_columns] = bank[cat_columns].astype(\"category\")"
   ]
  },
  {
   "cell_type": "code",
   "execution_count": 7,
   "id": "7dae1c68",
   "metadata": {},
   "outputs": [
    {
     "name": "stdout",
     "output_type": "stream",
     "text": [
      "<class 'pandas.core.frame.DataFrame'>\n",
      "RangeIndex: 11162 entries, 0 to 11161\n",
      "Data columns (total 17 columns):\n",
      " #   Column     Non-Null Count  Dtype   \n",
      "---  ------     --------------  -----   \n",
      " 0   age        11162 non-null  int64   \n",
      " 1   job        11162 non-null  category\n",
      " 2   marital    11162 non-null  category\n",
      " 3   education  11162 non-null  category\n",
      " 4   default    11162 non-null  category\n",
      " 5   balance    11162 non-null  int64   \n",
      " 6   housing    11162 non-null  category\n",
      " 7   loan       11162 non-null  category\n",
      " 8   contact    11162 non-null  category\n",
      " 9   day        11162 non-null  int64   \n",
      " 10  month      11162 non-null  category\n",
      " 11  duration   11162 non-null  int64   \n",
      " 12  campaign   11162 non-null  int64   \n",
      " 13  pdays      11162 non-null  int64   \n",
      " 14  previous   11162 non-null  int64   \n",
      " 15  poutcome   11162 non-null  category\n",
      " 16  deposit    11162 non-null  object  \n",
      "dtypes: category(9), int64(7), object(1)\n",
      "memory usage: 797.6+ KB\n"
     ]
    }
   ],
   "source": [
    "bank.info()"
   ]
  },
  {
   "cell_type": "code",
   "execution_count": 8,
   "id": "6b282f56",
   "metadata": {},
   "outputs": [
    {
     "data": {
      "image/png": "[encoded data removed]",
      "text/plain": [
       "<Figure size 1440x1080 with 9 Axes>"
      ]
     },
     "metadata": {
      "needs_background": "light"
     },
     "output_type": "display_data"
    }
   ],
   "source": [
    "fig, axs = plt.subplots(3, 3, sharex=False, sharey=False, figsize=(20, 15))\n",
    "\n",
    "counter = 0\n",
    "for cat_column in cat_columns:\n",
    "    value_counts = bank[cat_column].value_counts()\n",
    "    \n",
    "    trace_x = counter // 3\n",
    "    trace_y = counter % 3\n",
    "    x_pos = np.arange(0, len(value_counts))\n",
    "    \n",
    "    axs[trace_x, trace_y].bar(x_pos, value_counts.values, tick_label = value_counts.index)\n",
    "    \n",
    "    axs[trace_x, trace_y].set_title(cat_column)\n",
    "    \n",
    "    if cat_column == 'job':\n",
    "        for tick in axs[trace_x, trace_y].get_xticklabels():\n",
    "            tick.set_rotation(90)\n",
    "    \n",
    "    counter += 1\n",
    "\n",
    "fig.tight_layout()\n",
    "\n",
    "plt.show()"
   ]
  },
  {
   "cell_type": "markdown",
   "id": "e534f1e5",
   "metadata": {},
   "source": [
    "### Numerical features exploration"
   ]
  },
  {
   "cell_type": "code",
   "execution_count": 9,
   "id": "06d99fdf",
   "metadata": {},
   "outputs": [
    {
     "data": {
      "image/png": "[encoded data removed]",
      "text/plain": [
       "<Figure size 1440x1080 with 6 Axes>"
      ]
     },
     "metadata": {
      "needs_background": "light"
     },
     "output_type": "display_data"
    }
   ],
   "source": [
    "num_columns = ['balance', 'day', 'duration', 'campaign', 'pdays', 'previous']\n",
    "\n",
    "fig, axs = plt.subplots(2, 3, sharex=False, sharey=False, figsize=(20, 15))\n",
    "\n",
    "counter = 0\n",
    "for num_column in num_columns:\n",
    "    \n",
    "    trace_x = counter // 3\n",
    "    trace_y = counter % 3\n",
    "    \n",
    "    axs[trace_x, trace_y].hist(bank[num_column])\n",
    "    \n",
    "    axs[trace_x, trace_y].set_title(num_column)\n",
    "    \n",
    "    counter += 1\n",
    "\n",
    "fig.tight_layout()\n",
    "    \n",
    "plt.show()"
   ]
  },
  {
   "cell_type": "markdown",
   "id": "736943a1",
   "metadata": {},
   "source": [
    "We can detect some numerical features that have outliers especially **pdays**, **campaign** and **previous**. Possibly there are incorrect values (noisy data), so we should look closer at the data and decide how do we manage the noise.\n",
    "\n",
    "Let's look closer at the values of **pdays**, **campaign** and **previous** columns:"
   ]
  },
  {
   "cell_type": "code",
   "execution_count": 10,
   "id": "ae7500a2",
   "metadata": {
    "scrolled": true
   },
   "outputs": [
    {
     "data": {
      "text/html": [
       "<div>\n",
       "<style scoped>\n",
       "    .dataframe tbody tr th:only-of-type {\n",
       "        vertical-align: middle;\n",
       "    }\n",
       "\n",
       "    .dataframe tbody tr th {\n",
       "        vertical-align: top;\n",
       "    }\n",
       "\n",
       "    .dataframe thead th {\n",
       "        text-align: right;\n",
       "    }\n",
       "</style>\n",
       "<table border=\"1\" class=\"dataframe\">\n",
       "  <thead>\n",
       "    <tr style=\"text-align: right;\">\n",
       "      <th></th>\n",
       "      <th>pdays</th>\n",
       "      <th>campaign</th>\n",
       "      <th>previous</th>\n",
       "    </tr>\n",
       "  </thead>\n",
       "  <tbody>\n",
       "    <tr>\n",
       "      <th>count</th>\n",
       "      <td>11162.000000</td>\n",
       "      <td>11162.000000</td>\n",
       "      <td>11162.000000</td>\n",
       "    </tr>\n",
       "    <tr>\n",
       "      <th>mean</th>\n",
       "      <td>51.330407</td>\n",
       "      <td>2.508421</td>\n",
       "      <td>0.832557</td>\n",
       "    </tr>\n",
       "    <tr>\n",
       "      <th>std</th>\n",
       "      <td>108.758282</td>\n",
       "      <td>2.722077</td>\n",
       "      <td>2.292007</td>\n",
       "    </tr>\n",
       "    <tr>\n",
       "      <th>min</th>\n",
       "      <td>-1.000000</td>\n",
       "      <td>1.000000</td>\n",
       "      <td>0.000000</td>\n",
       "    </tr>\n",
       "    <tr>\n",
       "      <th>25%</th>\n",
       "      <td>-1.000000</td>\n",
       "      <td>1.000000</td>\n",
       "      <td>0.000000</td>\n",
       "    </tr>\n",
       "    <tr>\n",
       "      <th>50%</th>\n",
       "      <td>-1.000000</td>\n",
       "      <td>2.000000</td>\n",
       "      <td>0.000000</td>\n",
       "    </tr>\n",
       "    <tr>\n",
       "      <th>75%</th>\n",
       "      <td>20.750000</td>\n",
       "      <td>3.000000</td>\n",
       "      <td>1.000000</td>\n",
       "    </tr>\n",
       "    <tr>\n",
       "      <th>max</th>\n",
       "      <td>854.000000</td>\n",
       "      <td>63.000000</td>\n",
       "      <td>58.000000</td>\n",
       "    </tr>\n",
       "  </tbody>\n",
       "</table>\n",
       "</div>"
      ],
      "text/plain": [
       "              pdays      campaign      previous\n",
       "count  11162.000000  11162.000000  11162.000000\n",
       "mean      51.330407      2.508421      0.832557\n",
       "std      108.758282      2.722077      2.292007\n",
       "min       -1.000000      1.000000      0.000000\n",
       "25%       -1.000000      1.000000      0.000000\n",
       "50%       -1.000000      2.000000      0.000000\n",
       "75%       20.750000      3.000000      1.000000\n",
       "max      854.000000     63.000000     58.000000"
      ]
     },
     "execution_count": 10,
     "metadata": {},
     "output_type": "execute_result"
    }
   ],
   "source": [
    "bank[['pdays', 'campaign', 'previous']].describe()"
   ]
  },
  {
   "cell_type": "markdown",
   "id": "f3dfea1d",
   "metadata": {},
   "source": [
    "Percentage of **pdays** values above 400 :"
   ]
  },
  {
   "cell_type": "code",
   "execution_count": 11,
   "id": "7357792c",
   "metadata": {},
   "outputs": [
    {
     "data": {
      "text/plain": [
       "1.2005017022039062"
      ]
     },
     "execution_count": 11,
     "metadata": {},
     "output_type": "execute_result"
    }
   ],
   "source": [
    "len (bank[bank['pdays'] > 400] ) / len(bank) * 100"
   ]
  },
  {
   "cell_type": "markdown",
   "id": "8fb0fd68",
   "metadata": {},
   "source": [
    "**pdays** holds the number of days that passed by after the client was last contacted from a previous campaign. Looking closer into **pdays** data, we can see that:\n",
    "\n",
    "- only 1.2% of values above 400. They are possibly outliers, so we should consider imputing something (possibly mean value) instead of these values.\n",
    "- -1 possibly means that the client wasn't contacted before or stands for missing data.\n",
    "\n",
    "Since we are not sure exactly what -1 means I suggest to drop this column, because -1 makes more than 50% of the values of the column."
   ]
  },
  {
   "cell_type": "markdown",
   "id": "3f606f55",
   "metadata": {},
   "source": [
    "Percentage of **campaign** values above 20 :"
   ]
  },
  {
   "cell_type": "code",
   "execution_count": 12,
   "id": "cd1c3a34",
   "metadata": {},
   "outputs": [
    {
     "data": {
      "text/plain": [
       "0.035835871707579285"
      ]
     },
     "execution_count": 12,
     "metadata": {},
     "output_type": "execute_result"
    }
   ],
   "source": [
    "len (bank[bank['campaign'] > 34] ) / len(bank) * 100"
   ]
  },
  {
   "cell_type": "markdown",
   "id": "d0dfaa10",
   "metadata": {},
   "source": [
    "**campaign** holds the number of contacts performed during this campaign and for this client (numeric, includes last contact). \n",
    "\n",
    "Numbers for **campaign** above 34 are clearly noise, so I suggest to impute them with average campaign values while data cleaning."
   ]
  },
  {
   "cell_type": "markdown",
   "id": "3f7d59af",
   "metadata": {},
   "source": [
    "Percentage of **previous** values above 20 :"
   ]
  },
  {
   "cell_type": "code",
   "execution_count": 13,
   "id": "7dc08e1e",
   "metadata": {},
   "outputs": [
    {
     "data": {
      "text/plain": [
       "0.04479483963447411"
      ]
     },
     "execution_count": 13,
     "metadata": {},
     "output_type": "execute_result"
    }
   ],
   "source": [
    "len (bank[bank['previous'] > 34] ) / len(bank) * 100"
   ]
  },
  {
   "cell_type": "markdown",
   "id": "81979e1d",
   "metadata": {},
   "source": [
    "**previous** holds the number of contacts performed before this campaign and for this client (numeric).\n",
    "\n",
    "Numbers for **previous** above 34 are also really strange, so I suggest to impute them with average campaign values while data cleaning."
   ]
  },
  {
   "cell_type": "markdown",
   "id": "1a174869",
   "metadata": {},
   "source": [
    "### Analysis of the target variable \"deposit\""
   ]
  },
  {
   "cell_type": "markdown",
   "id": "6279d65e",
   "metadata": {},
   "source": [
    "First of all, we should look at the number of 'yes' and 'no' values in the target column 'deposit' :"
   ]
  },
  {
   "cell_type": "code",
   "execution_count": 14,
   "id": "2e055426",
   "metadata": {},
   "outputs": [
    {
     "data": {
      "image/png": "[encoded data removed]",
      "text/plain": [
       "<Figure size 432x288 with 1 Axes>"
      ]
     },
     "metadata": {
      "needs_background": "light"
     },
     "output_type": "display_data"
    }
   ],
   "source": [
    "bank['deposit'].value_counts().plot.bar(title = 'Deposit value counts')\n",
    "plt.show()"
   ]
  },
  {
   "cell_type": "markdown",
   "id": "36536ed4",
   "metadata": {},
   "source": [
    "Perfect ! We see that counts for 'yes' and 'no' values for 'deposit' are close (balanced data), so we can use accuracy as a metric for a model which predicts the campaign outcome."
   ]
  },
  {
   "cell_type": "markdown",
   "id": "e8d3d6e0",
   "metadata": {},
   "source": [
    "Let's see how **deposit** column value varies depending on other categorical columns values :"
   ]
  },
  {
   "cell_type": "markdown",
   "id": "0b291a89",
   "metadata": {},
   "source": [
    "#### Deposit based on job feature"
   ]
  },
  {
   "cell_type": "code",
   "execution_count": 15,
   "id": "7d9aa58e",
   "metadata": {},
   "outputs": [
    {
     "data": {
      "image/png": "[encoded data removed]",
      "text/plain": [
       "<Figure size 432x288 with 1 Axes>"
      ]
     },
     "metadata": {
      "needs_background": "light"
     },
     "output_type": "display_data"
    }
   ],
   "source": [
    "df = pd.DataFrame()\n",
    "\n",
    "df['yes'] = bank[bank['deposit'] == 'yes']['job'].value_counts()\n",
    "df['no'] = bank[bank['deposit'] == 'no']['job'].value_counts()\n",
    "\n",
    "df.plot.bar(title = 'Deposit based on Job')\n",
    "plt.show()"
   ]
  },
  {
   "cell_type": "markdown",
   "id": "878f4f00",
   "metadata": {},
   "source": [
    "#### Deposit based on marital status"
   ]
  },
  {
   "cell_type": "code",
   "execution_count": 16,
   "id": "e6871ffa",
   "metadata": {},
   "outputs": [
    {
     "data": {
      "image/png": "[encoded data removed]",
      "text/plain": [
       "<Figure size 432x288 with 1 Axes>"
      ]
     },
     "metadata": {
      "needs_background": "light"
     },
     "output_type": "display_data"
    }
   ],
   "source": [
    "df = pd.DataFrame()\n",
    "\n",
    "df['yes'] = bank[bank['deposit'] == 'yes']['marital'].value_counts()\n",
    "df['no'] = bank[bank['deposit'] == 'no']['marital'].value_counts()\n",
    "\n",
    "df.plot.bar(title = 'Deposit based on Marital status')\n",
    "plt.show()"
   ]
  },
  {
   "cell_type": "markdown",
   "id": "75cee116",
   "metadata": {},
   "source": [
    "#### Deposit based on education"
   ]
  },
  {
   "cell_type": "code",
   "execution_count": 17,
   "id": "918f928c",
   "metadata": {},
   "outputs": [
    {
     "data": {
      "image/png": "[encoded data removed]",
      "text/plain": [
       "<Figure size 432x288 with 1 Axes>"
      ]
     },
     "metadata": {
      "needs_background": "light"
     },
     "output_type": "display_data"
    }
   ],
   "source": [
    "df = pd.DataFrame()\n",
    "\n",
    "df['yes'] = bank[bank['deposit'] == 'yes']['education'].value_counts()\n",
    "df['no'] = bank[bank['deposit'] == 'no']['education'].value_counts()\n",
    "\n",
    "df.plot.bar(title = 'Deposit based on Education')\n",
    "plt.show()"
   ]
  },
  {
   "cell_type": "markdown",
   "id": "6e4737ab",
   "metadata": {},
   "source": [
    "#### Deposit based on type of contact"
   ]
  },
  {
   "cell_type": "code",
   "execution_count": 18,
   "id": "cb45a883",
   "metadata": {},
   "outputs": [
    {
     "data": {
      "image/png": "[encoded data removed]",
      "text/plain": [
       "<Figure size 432x288 with 1 Axes>"
      ]
     },
     "metadata": {
      "needs_background": "light"
     },
     "output_type": "display_data"
    }
   ],
   "source": [
    "df = pd.DataFrame()\n",
    "\n",
    "df['yes'] = bank[bank['deposit'] == 'yes']['contact'].value_counts()\n",
    "df['no'] = bank[bank['deposit'] == 'no']['contact'].value_counts()\n",
    "\n",
    "df.plot.bar(title = 'Deposit based on type of contact')\n",
    "plt.show()"
   ]
  },
  {
   "cell_type": "markdown",
   "id": "75cfa02a",
   "metadata": {},
   "source": [
    "Regarding the diagrams we can tell that according to our dataset:\n",
    "\n",
    "- Customers with 'blue-collar' and 'services' jobs are less likely to subscribe for term deposit.\n",
    "- Married customers are less likely to subscribe for term deposit.\n",
    "- Customers with 'cellular' type of contact are less likely to subscribe for term deposit."
   ]
  },
  {
   "cell_type": "markdown",
   "id": "1a223c50",
   "metadata": {},
   "source": [
    "Now let's look how numerical columns affect term **deposit** subscription."
   ]
  },
  {
   "cell_type": "markdown",
   "id": "8bb67cca",
   "metadata": {},
   "source": [
    "#### Deposit based on Age and balance"
   ]
  },
  {
   "cell_type": "code",
   "execution_count": 19,
   "id": "48147038",
   "metadata": {
    "scrolled": false
   },
   "outputs": [
    {
     "data": {
      "image/png": "[encoded data removed]",
      "text/plain": [
       "<Figure size 864x576 with 1 Axes>"
      ]
     },
     "metadata": {
      "needs_background": "light"
     },
     "output_type": "display_data"
    }
   ],
   "source": [
    "fig = plt.figure(figsize = (12,8))\n",
    "fig.suptitle(\"Deposit Scatter Plot based on age and balance\", fontweight = 'bold', fontsize = 16, fontfamily = 'sans-serif')\n",
    "plt.scatter(x = bank.age[bank.deposit=='yes'], y = bank.balance[(bank.deposit=='yes')], c = \"green\")\n",
    "plt.scatter(x = bank.age[bank.deposit=='no'], y = bank.balance[(bank.deposit=='no')], c = \"red\")\n",
    "plt.legend(['Yes', 'No'], title = '$\\\\bf{Deposit}$', fontsize = '10', \n",
    "           title_fontsize = '10', loc = 'upper right', frameon = True)\n",
    "plt.xlabel('Age', fontweight = 'bold', fontsize = '11', fontfamily = 'sans-serif')\n",
    "plt.ylabel('Balance', fontweight='bold', fontsize='11', fontfamily='sans-serif')\n",
    "plt.grid(axis = 'both', alpha = 0.2, lw = 0.5)\n",
    "plt.show()"
   ]
  },
  {
   "cell_type": "markdown",
   "id": "ef6b49f8",
   "metadata": {},
   "source": [
    "#### Deposit based on Age and number of previous contacts"
   ]
  },
  {
   "cell_type": "code",
   "execution_count": 20,
   "id": "dedd9a50",
   "metadata": {},
   "outputs": [
    {
     "data": {
      "image/png": "[encoded data removed]",
      "text/plain": [
       "<Figure size 864x576 with 1 Axes>"
      ]
     },
     "metadata": {
      "needs_background": "light"
     },
     "output_type": "display_data"
    }
   ],
   "source": [
    "fig = plt.figure(figsize = (12,8))\n",
    "fig.suptitle(\"Deposit Scatter Plot based on age and number of previous contacts\", fontweight = 'bold', fontsize = 16, fontfamily = 'sans-serif')\n",
    "plt.scatter(x = bank.age[bank.deposit=='yes'], y = bank.previous[(bank.deposit=='yes')], c = \"green\")\n",
    "plt.scatter(x = bank.age[bank.deposit=='no'], y = bank.previous[(bank.deposit=='no')], c = \"red\")\n",
    "plt.legend(['Yes', 'No'], title = '$\\\\bf{Deposit}$', fontsize = '10', \n",
    "           title_fontsize = '10', loc = 'upper right', frameon = True)\n",
    "plt.xlabel('Age', fontweight = 'bold', fontsize = '11', fontfamily = 'sans-serif')\n",
    "plt.ylabel('Number of contacts', fontweight='bold', fontsize='11', fontfamily='sans-serif')\n",
    "plt.grid(axis = 'both', alpha = 0.2, lw = 0.5)\n",
    "plt.show()"
   ]
  },
  {
   "cell_type": "markdown",
   "id": "89330435",
   "metadata": {},
   "source": [
    "Looking at the scatter plots above, we can conclude that:\n",
    "\n",
    "- People who subscribed for term deposit tend to have greater balance and age values.\n",
    "- People who subscribed for term deposit tend to have fewer number of contacts during this campaign."
   ]
  },
  {
   "cell_type": "markdown",
   "id": "a5c8568b",
   "metadata": {},
   "source": [
    "### Correlation Map"
   ]
  },
  {
   "cell_type": "markdown",
   "id": "613452ae",
   "metadata": {},
   "source": [
    "Below is correlation map/heatmap of numerical variables to show correlation level/values for each variables with others."
   ]
  },
  {
   "cell_type": "code",
   "execution_count": 21,
   "id": "165aa59f",
   "metadata": {},
   "outputs": [],
   "source": [
    "# Convert deposit column to numerical\n",
    "bank.deposit = bank.deposit.replace(['yes','no'],[1,0])"
   ]
  },
  {
   "cell_type": "code",
   "execution_count": 22,
   "id": "b5246758",
   "metadata": {},
   "outputs": [
    {
     "data": {
      "text/html": [
       "<div>\n",
       "<style scoped>\n",
       "    .dataframe tbody tr th:only-of-type {\n",
       "        vertical-align: middle;\n",
       "    }\n",
       "\n",
       "    .dataframe tbody tr th {\n",
       "        vertical-align: top;\n",
       "    }\n",
       "\n",
       "    .dataframe thead th {\n",
       "        text-align: right;\n",
       "    }\n",
       "</style>\n",
       "<table border=\"1\" class=\"dataframe\">\n",
       "  <thead>\n",
       "    <tr style=\"text-align: right;\">\n",
       "      <th></th>\n",
       "      <th>age</th>\n",
       "      <th>job</th>\n",
       "      <th>marital</th>\n",
       "      <th>education</th>\n",
       "      <th>default</th>\n",
       "      <th>balance</th>\n",
       "      <th>housing</th>\n",
       "      <th>loan</th>\n",
       "      <th>contact</th>\n",
       "      <th>day</th>\n",
       "      <th>month</th>\n",
       "      <th>duration</th>\n",
       "      <th>campaign</th>\n",
       "      <th>pdays</th>\n",
       "      <th>previous</th>\n",
       "      <th>poutcome</th>\n",
       "      <th>deposit</th>\n",
       "    </tr>\n",
       "  </thead>\n",
       "  <tbody>\n",
       "    <tr>\n",
       "      <th>0</th>\n",
       "      <td>59</td>\n",
       "      <td>admin.</td>\n",
       "      <td>married</td>\n",
       "      <td>secondary</td>\n",
       "      <td>no</td>\n",
       "      <td>2343</td>\n",
       "      <td>yes</td>\n",
       "      <td>no</td>\n",
       "      <td>unknown</td>\n",
       "      <td>5</td>\n",
       "      <td>may</td>\n",
       "      <td>1042</td>\n",
       "      <td>1</td>\n",
       "      <td>-1</td>\n",
       "      <td>0</td>\n",
       "      <td>unknown</td>\n",
       "      <td>1</td>\n",
       "    </tr>\n",
       "    <tr>\n",
       "      <th>1</th>\n",
       "      <td>56</td>\n",
       "      <td>admin.</td>\n",
       "      <td>married</td>\n",
       "      <td>secondary</td>\n",
       "      <td>no</td>\n",
       "      <td>45</td>\n",
       "      <td>no</td>\n",
       "      <td>no</td>\n",
       "      <td>unknown</td>\n",
       "      <td>5</td>\n",
       "      <td>may</td>\n",
       "      <td>1467</td>\n",
       "      <td>1</td>\n",
       "      <td>-1</td>\n",
       "      <td>0</td>\n",
       "      <td>unknown</td>\n",
       "      <td>1</td>\n",
       "    </tr>\n",
       "    <tr>\n",
       "      <th>2</th>\n",
       "      <td>41</td>\n",
       "      <td>technician</td>\n",
       "      <td>married</td>\n",
       "      <td>secondary</td>\n",
       "      <td>no</td>\n",
       "      <td>1270</td>\n",
       "      <td>yes</td>\n",
       "      <td>no</td>\n",
       "      <td>unknown</td>\n",
       "      <td>5</td>\n",
       "      <td>may</td>\n",
       "      <td>1389</td>\n",
       "      <td>1</td>\n",
       "      <td>-1</td>\n",
       "      <td>0</td>\n",
       "      <td>unknown</td>\n",
       "      <td>1</td>\n",
       "    </tr>\n",
       "    <tr>\n",
       "      <th>3</th>\n",
       "      <td>55</td>\n",
       "      <td>services</td>\n",
       "      <td>married</td>\n",
       "      <td>secondary</td>\n",
       "      <td>no</td>\n",
       "      <td>2476</td>\n",
       "      <td>yes</td>\n",
       "      <td>no</td>\n",
       "      <td>unknown</td>\n",
       "      <td>5</td>\n",
       "      <td>may</td>\n",
       "      <td>579</td>\n",
       "      <td>1</td>\n",
       "      <td>-1</td>\n",
       "      <td>0</td>\n",
       "      <td>unknown</td>\n",
       "      <td>1</td>\n",
       "    </tr>\n",
       "    <tr>\n",
       "      <th>4</th>\n",
       "      <td>54</td>\n",
       "      <td>admin.</td>\n",
       "      <td>married</td>\n",
       "      <td>tertiary</td>\n",
       "      <td>no</td>\n",
       "      <td>184</td>\n",
       "      <td>no</td>\n",
       "      <td>no</td>\n",
       "      <td>unknown</td>\n",
       "      <td>5</td>\n",
       "      <td>may</td>\n",
       "      <td>673</td>\n",
       "      <td>2</td>\n",
       "      <td>-1</td>\n",
       "      <td>0</td>\n",
       "      <td>unknown</td>\n",
       "      <td>1</td>\n",
       "    </tr>\n",
       "  </tbody>\n",
       "</table>\n",
       "</div>"
      ],
      "text/plain": [
       "   age         job  marital  education default  balance housing loan  contact  \\\n",
       "0   59      admin.  married  secondary      no     2343     yes   no  unknown   \n",
       "1   56      admin.  married  secondary      no       45      no   no  unknown   \n",
       "2   41  technician  married  secondary      no     1270     yes   no  unknown   \n",
       "3   55    services  married  secondary      no     2476     yes   no  unknown   \n",
       "4   54      admin.  married   tertiary      no      184      no   no  unknown   \n",
       "\n",
       "   day month  duration  campaign  pdays  previous poutcome  deposit  \n",
       "0    5   may      1042         1     -1         0  unknown        1  \n",
       "1    5   may      1467         1     -1         0  unknown        1  \n",
       "2    5   may      1389         1     -1         0  unknown        1  \n",
       "3    5   may       579         1     -1         0  unknown        1  \n",
       "4    5   may       673         2     -1         0  unknown        1  "
      ]
     },
     "execution_count": 22,
     "metadata": {},
     "output_type": "execute_result"
    }
   ],
   "source": [
    "bank.head()"
   ]
  },
  {
   "cell_type": "code",
   "execution_count": 23,
   "id": "95a2e019",
   "metadata": {},
   "outputs": [
    {
     "data": {
      "image/png": "[encoded data removed]",
      "text/plain": [
       "<Figure size 1080x1080 with 2 Axes>"
      ]
     },
     "metadata": {
      "needs_background": "light"
     },
     "output_type": "display_data"
    }
   ],
   "source": [
    "corr = bank.corr()\n",
    "fig = plt.figure(figsize = (15,15))\n",
    "sns.heatmap(corr, annot = True)\n",
    "plt.show()"
   ]
  },
  {
   "cell_type": "markdown",
   "id": "47799fce",
   "metadata": {},
   "source": [
    "We can see that the target variable **deposit** is highly correlated to the **duration** feature."
   ]
  },
  {
   "cell_type": "markdown",
   "id": "b71652f6",
   "metadata": {},
   "source": [
    "## 2. Data cleaning"
   ]
  },
  {
   "cell_type": "markdown",
   "id": "2a3cf602",
   "metadata": {},
   "source": [
    "Before we will be able to apply our deep learning neural network, we should prepare the dataset for processing.\n",
    "\n",
    "First, we will convert categorical columns into dummy variables."
   ]
  },
  {
   "cell_type": "markdown",
   "id": "19c56db0",
   "metadata": {},
   "source": [
    "#### One-Hot Encoding"
   ]
  },
  {
   "cell_type": "code",
   "execution_count": 24,
   "id": "808bed40",
   "metadata": {},
   "outputs": [],
   "source": [
    "# --- Creating Dummy Variables for cp, thal and slope ---\n",
    "\n",
    "job = pd.get_dummies(bank['job'], prefix = 'job')\n",
    "marital = pd.get_dummies(bank['marital'], prefix = 'marital')\n",
    "education = pd.get_dummies(bank['education'], prefix = 'education')\n",
    "default = pd.get_dummies(bank['default'], prefix = 'default')\n",
    "housing = pd.get_dummies(bank['housing'], prefix = 'housing')\n",
    "loan = pd.get_dummies(bank['loan'], prefix = 'loan')\n",
    "contact = pd.get_dummies(bank['contact'], prefix = 'contact')\n",
    "month = pd.get_dummies(bank['month'], prefix = 'month')\n",
    "poutcome = pd.get_dummies(bank['poutcome'], prefix = 'poutcome')\n",
    "\n",
    "# --- Merge Dummy Variables to Main Data Frame ---\n",
    "\n",
    "frames = [bank, job, marital, education, default, housing, loan, contact, month, poutcome]\n",
    "bank = pd.concat(frames, axis = 1)"
   ]
  },
  {
   "cell_type": "code",
   "execution_count": 25,
   "id": "53effe7a",
   "metadata": {},
   "outputs": [
    {
     "data": {
      "text/html": [
       "<div>\n",
       "<style scoped>\n",
       "    .dataframe tbody tr th:only-of-type {\n",
       "        vertical-align: middle;\n",
       "    }\n",
       "\n",
       "    .dataframe tbody tr th {\n",
       "        vertical-align: top;\n",
       "    }\n",
       "\n",
       "    .dataframe thead th {\n",
       "        text-align: right;\n",
       "    }\n",
       "</style>\n",
       "<table border=\"1\" class=\"dataframe\">\n",
       "  <thead>\n",
       "    <tr style=\"text-align: right;\">\n",
       "      <th></th>\n",
       "      <th>age</th>\n",
       "      <th>job</th>\n",
       "      <th>marital</th>\n",
       "      <th>education</th>\n",
       "      <th>default</th>\n",
       "      <th>balance</th>\n",
       "      <th>housing</th>\n",
       "      <th>loan</th>\n",
       "      <th>contact</th>\n",
       "      <th>day</th>\n",
       "      <th>...</th>\n",
       "      <th>month_jun</th>\n",
       "      <th>month_mar</th>\n",
       "      <th>month_may</th>\n",
       "      <th>month_nov</th>\n",
       "      <th>month_oct</th>\n",
       "      <th>month_sep</th>\n",
       "      <th>poutcome_failure</th>\n",
       "      <th>poutcome_other</th>\n",
       "      <th>poutcome_success</th>\n",
       "      <th>poutcome_unknown</th>\n",
       "    </tr>\n",
       "  </thead>\n",
       "  <tbody>\n",
       "    <tr>\n",
       "      <th>0</th>\n",
       "      <td>59</td>\n",
       "      <td>admin.</td>\n",
       "      <td>married</td>\n",
       "      <td>secondary</td>\n",
       "      <td>no</td>\n",
       "      <td>2343</td>\n",
       "      <td>yes</td>\n",
       "      <td>no</td>\n",
       "      <td>unknown</td>\n",
       "      <td>5</td>\n",
       "      <td>...</td>\n",
       "      <td>0</td>\n",
       "      <td>0</td>\n",
       "      <td>1</td>\n",
       "      <td>0</td>\n",
       "      <td>0</td>\n",
       "      <td>0</td>\n",
       "      <td>0</td>\n",
       "      <td>0</td>\n",
       "      <td>0</td>\n",
       "      <td>1</td>\n",
       "    </tr>\n",
       "    <tr>\n",
       "      <th>1</th>\n",
       "      <td>56</td>\n",
       "      <td>admin.</td>\n",
       "      <td>married</td>\n",
       "      <td>secondary</td>\n",
       "      <td>no</td>\n",
       "      <td>45</td>\n",
       "      <td>no</td>\n",
       "      <td>no</td>\n",
       "      <td>unknown</td>\n",
       "      <td>5</td>\n",
       "      <td>...</td>\n",
       "      <td>0</td>\n",
       "      <td>0</td>\n",
       "      <td>1</td>\n",
       "      <td>0</td>\n",
       "      <td>0</td>\n",
       "      <td>0</td>\n",
       "      <td>0</td>\n",
       "      <td>0</td>\n",
       "      <td>0</td>\n",
       "      <td>1</td>\n",
       "    </tr>\n",
       "    <tr>\n",
       "      <th>2</th>\n",
       "      <td>41</td>\n",
       "      <td>technician</td>\n",
       "      <td>married</td>\n",
       "      <td>secondary</td>\n",
       "      <td>no</td>\n",
       "      <td>1270</td>\n",
       "      <td>yes</td>\n",
       "      <td>no</td>\n",
       "      <td>unknown</td>\n",
       "      <td>5</td>\n",
       "      <td>...</td>\n",
       "      <td>0</td>\n",
       "      <td>0</td>\n",
       "      <td>1</td>\n",
       "      <td>0</td>\n",
       "      <td>0</td>\n",
       "      <td>0</td>\n",
       "      <td>0</td>\n",
       "      <td>0</td>\n",
       "      <td>0</td>\n",
       "      <td>1</td>\n",
       "    </tr>\n",
       "    <tr>\n",
       "      <th>3</th>\n",
       "      <td>55</td>\n",
       "      <td>services</td>\n",
       "      <td>married</td>\n",
       "      <td>secondary</td>\n",
       "      <td>no</td>\n",
       "      <td>2476</td>\n",
       "      <td>yes</td>\n",
       "      <td>no</td>\n",
       "      <td>unknown</td>\n",
       "      <td>5</td>\n",
       "      <td>...</td>\n",
       "      <td>0</td>\n",
       "      <td>0</td>\n",
       "      <td>1</td>\n",
       "      <td>0</td>\n",
       "      <td>0</td>\n",
       "      <td>0</td>\n",
       "      <td>0</td>\n",
       "      <td>0</td>\n",
       "      <td>0</td>\n",
       "      <td>1</td>\n",
       "    </tr>\n",
       "    <tr>\n",
       "      <th>4</th>\n",
       "      <td>54</td>\n",
       "      <td>admin.</td>\n",
       "      <td>married</td>\n",
       "      <td>tertiary</td>\n",
       "      <td>no</td>\n",
       "      <td>184</td>\n",
       "      <td>no</td>\n",
       "      <td>no</td>\n",
       "      <td>unknown</td>\n",
       "      <td>5</td>\n",
       "      <td>...</td>\n",
       "      <td>0</td>\n",
       "      <td>0</td>\n",
       "      <td>1</td>\n",
       "      <td>0</td>\n",
       "      <td>0</td>\n",
       "      <td>0</td>\n",
       "      <td>0</td>\n",
       "      <td>0</td>\n",
       "      <td>0</td>\n",
       "      <td>1</td>\n",
       "    </tr>\n",
       "  </tbody>\n",
       "</table>\n",
       "<p>5 rows × 61 columns</p>\n",
       "</div>"
      ],
      "text/plain": [
       "   age         job  marital  education default  balance housing loan  contact  \\\n",
       "0   59      admin.  married  secondary      no     2343     yes   no  unknown   \n",
       "1   56      admin.  married  secondary      no       45      no   no  unknown   \n",
       "2   41  technician  married  secondary      no     1270     yes   no  unknown   \n",
       "3   55    services  married  secondary      no     2476     yes   no  unknown   \n",
       "4   54      admin.  married   tertiary      no      184      no   no  unknown   \n",
       "\n",
       "   day  ... month_jun  month_mar  month_may  month_nov  month_oct month_sep  \\\n",
       "0    5  ...         0          0          1          0          0         0   \n",
       "1    5  ...         0          0          1          0          0         0   \n",
       "2    5  ...         0          0          1          0          0         0   \n",
       "3    5  ...         0          0          1          0          0         0   \n",
       "4    5  ...         0          0          1          0          0         0   \n",
       "\n",
       "   poutcome_failure  poutcome_other  poutcome_success  poutcome_unknown  \n",
       "0                 0               0                 0                 1  \n",
       "1                 0               0                 0                 1  \n",
       "2                 0               0                 0                 1  \n",
       "3                 0               0                 0                 1  \n",
       "4                 0               0                 0                 1  \n",
       "\n",
       "[5 rows x 61 columns]"
      ]
     },
     "execution_count": 25,
     "metadata": {},
     "output_type": "execute_result"
    }
   ],
   "source": [
    "bank.head()"
   ]
  },
  {
   "cell_type": "markdown",
   "id": "34921586",
   "metadata": {},
   "source": [
    "#### Dropping Unnecessary Variables\n",
    "\n",
    "The variables that unnecessary will be deleted."
   ]
  },
  {
   "cell_type": "code",
   "execution_count": 26,
   "id": "66924bee",
   "metadata": {},
   "outputs": [],
   "source": [
    "bank.drop(columns = ['job', 'marital', 'education', 'default', 'housing', 'loan', 'contact', 'month','poutcome'], \n",
    "          inplace = True)"
   ]
  },
  {
   "cell_type": "code",
   "execution_count": 27,
   "id": "407ed86b",
   "metadata": {},
   "outputs": [
    {
     "data": {
      "text/html": [
       "<div>\n",
       "<style scoped>\n",
       "    .dataframe tbody tr th:only-of-type {\n",
       "        vertical-align: middle;\n",
       "    }\n",
       "\n",
       "    .dataframe tbody tr th {\n",
       "        vertical-align: top;\n",
       "    }\n",
       "\n",
       "    .dataframe thead th {\n",
       "        text-align: right;\n",
       "    }\n",
       "</style>\n",
       "<table border=\"1\" class=\"dataframe\">\n",
       "  <thead>\n",
       "    <tr style=\"text-align: right;\">\n",
       "      <th></th>\n",
       "      <th>age</th>\n",
       "      <th>balance</th>\n",
       "      <th>day</th>\n",
       "      <th>duration</th>\n",
       "      <th>campaign</th>\n",
       "      <th>pdays</th>\n",
       "      <th>previous</th>\n",
       "      <th>deposit</th>\n",
       "      <th>job_admin.</th>\n",
       "      <th>job_blue-collar</th>\n",
       "      <th>...</th>\n",
       "      <th>month_jun</th>\n",
       "      <th>month_mar</th>\n",
       "      <th>month_may</th>\n",
       "      <th>month_nov</th>\n",
       "      <th>month_oct</th>\n",
       "      <th>month_sep</th>\n",
       "      <th>poutcome_failure</th>\n",
       "      <th>poutcome_other</th>\n",
       "      <th>poutcome_success</th>\n",
       "      <th>poutcome_unknown</th>\n",
       "    </tr>\n",
       "  </thead>\n",
       "  <tbody>\n",
       "    <tr>\n",
       "      <th>0</th>\n",
       "      <td>59</td>\n",
       "      <td>2343</td>\n",
       "      <td>5</td>\n",
       "      <td>1042</td>\n",
       "      <td>1</td>\n",
       "      <td>-1</td>\n",
       "      <td>0</td>\n",
       "      <td>1</td>\n",
       "      <td>1</td>\n",
       "      <td>0</td>\n",
       "      <td>...</td>\n",
       "      <td>0</td>\n",
       "      <td>0</td>\n",
       "      <td>1</td>\n",
       "      <td>0</td>\n",
       "      <td>0</td>\n",
       "      <td>0</td>\n",
       "      <td>0</td>\n",
       "      <td>0</td>\n",
       "      <td>0</td>\n",
       "      <td>1</td>\n",
       "    </tr>\n",
       "    <tr>\n",
       "      <th>1</th>\n",
       "      <td>56</td>\n",
       "      <td>45</td>\n",
       "      <td>5</td>\n",
       "      <td>1467</td>\n",
       "      <td>1</td>\n",
       "      <td>-1</td>\n",
       "      <td>0</td>\n",
       "      <td>1</td>\n",
       "      <td>1</td>\n",
       "      <td>0</td>\n",
       "      <td>...</td>\n",
       "      <td>0</td>\n",
       "      <td>0</td>\n",
       "      <td>1</td>\n",
       "      <td>0</td>\n",
       "      <td>0</td>\n",
       "      <td>0</td>\n",
       "      <td>0</td>\n",
       "      <td>0</td>\n",
       "      <td>0</td>\n",
       "      <td>1</td>\n",
       "    </tr>\n",
       "    <tr>\n",
       "      <th>2</th>\n",
       "      <td>41</td>\n",
       "      <td>1270</td>\n",
       "      <td>5</td>\n",
       "      <td>1389</td>\n",
       "      <td>1</td>\n",
       "      <td>-1</td>\n",
       "      <td>0</td>\n",
       "      <td>1</td>\n",
       "      <td>0</td>\n",
       "      <td>0</td>\n",
       "      <td>...</td>\n",
       "      <td>0</td>\n",
       "      <td>0</td>\n",
       "      <td>1</td>\n",
       "      <td>0</td>\n",
       "      <td>0</td>\n",
       "      <td>0</td>\n",
       "      <td>0</td>\n",
       "      <td>0</td>\n",
       "      <td>0</td>\n",
       "      <td>1</td>\n",
       "    </tr>\n",
       "    <tr>\n",
       "      <th>3</th>\n",
       "      <td>55</td>\n",
       "      <td>2476</td>\n",
       "      <td>5</td>\n",
       "      <td>579</td>\n",
       "      <td>1</td>\n",
       "      <td>-1</td>\n",
       "      <td>0</td>\n",
       "      <td>1</td>\n",
       "      <td>0</td>\n",
       "      <td>0</td>\n",
       "      <td>...</td>\n",
       "      <td>0</td>\n",
       "      <td>0</td>\n",
       "      <td>1</td>\n",
       "      <td>0</td>\n",
       "      <td>0</td>\n",
       "      <td>0</td>\n",
       "      <td>0</td>\n",
       "      <td>0</td>\n",
       "      <td>0</td>\n",
       "      <td>1</td>\n",
       "    </tr>\n",
       "    <tr>\n",
       "      <th>4</th>\n",
       "      <td>54</td>\n",
       "      <td>184</td>\n",
       "      <td>5</td>\n",
       "      <td>673</td>\n",
       "      <td>2</td>\n",
       "      <td>-1</td>\n",
       "      <td>0</td>\n",
       "      <td>1</td>\n",
       "      <td>1</td>\n",
       "      <td>0</td>\n",
       "      <td>...</td>\n",
       "      <td>0</td>\n",
       "      <td>0</td>\n",
       "      <td>1</td>\n",
       "      <td>0</td>\n",
       "      <td>0</td>\n",
       "      <td>0</td>\n",
       "      <td>0</td>\n",
       "      <td>0</td>\n",
       "      <td>0</td>\n",
       "      <td>1</td>\n",
       "    </tr>\n",
       "  </tbody>\n",
       "</table>\n",
       "<p>5 rows × 52 columns</p>\n",
       "</div>"
      ],
      "text/plain": [
       "   age  balance  day  duration  campaign  pdays  previous  deposit  \\\n",
       "0   59     2343    5      1042         1     -1         0        1   \n",
       "1   56       45    5      1467         1     -1         0        1   \n",
       "2   41     1270    5      1389         1     -1         0        1   \n",
       "3   55     2476    5       579         1     -1         0        1   \n",
       "4   54      184    5       673         2     -1         0        1   \n",
       "\n",
       "   job_admin.  job_blue-collar  ...  month_jun  month_mar  month_may  \\\n",
       "0           1                0  ...          0          0          1   \n",
       "1           1                0  ...          0          0          1   \n",
       "2           0                0  ...          0          0          1   \n",
       "3           0                0  ...          0          0          1   \n",
       "4           1                0  ...          0          0          1   \n",
       "\n",
       "   month_nov  month_oct  month_sep  poutcome_failure  poutcome_other  \\\n",
       "0          0          0          0                 0               0   \n",
       "1          0          0          0                 0               0   \n",
       "2          0          0          0                 0               0   \n",
       "3          0          0          0                 0               0   \n",
       "4          0          0          0                 0               0   \n",
       "\n",
       "   poutcome_success  poutcome_unknown  \n",
       "0                 0                 1  \n",
       "1                 0                 1  \n",
       "2                 0                 1  \n",
       "3                 0                 1  \n",
       "4                 0                 1  \n",
       "\n",
       "[5 rows x 52 columns]"
      ]
     },
     "execution_count": 27,
     "metadata": {},
     "output_type": "execute_result"
    }
   ],
   "source": [
    "bank.head()"
   ]
  },
  {
   "cell_type": "markdown",
   "id": "5ddf4e7f",
   "metadata": {},
   "source": [
    "#### Features Separating"
   ]
  },
  {
   "cell_type": "code",
   "execution_count": 28,
   "id": "c7bd9a6f",
   "metadata": {},
   "outputs": [],
   "source": [
    "X = bank.drop(['deposit'], axis = 1)\n",
    "y = bank['deposit']"
   ]
  },
  {
   "cell_type": "markdown",
   "id": "31264305",
   "metadata": {},
   "source": [
    "#### Data Normalization\n",
    "We will use **min-max normalization**."
   ]
  },
  {
   "cell_type": "code",
   "execution_count": 29,
   "id": "f00b408d",
   "metadata": {},
   "outputs": [],
   "source": [
    "# --- Data Normalization using Min-Max Method ---\n",
    "X = MinMaxScaler().fit_transform(X)"
   ]
  },
  {
   "cell_type": "markdown",
   "id": "33d8299c",
   "metadata": {},
   "source": [
    "#### Splitting the Dataset"
   ]
  },
  {
   "cell_type": "code",
   "execution_count": 30,
   "id": "44f8659f",
   "metadata": {},
   "outputs": [],
   "source": [
    "X_train, X_test, y_train, y_test = train_test_split(X, y, test_size = 0.2, random_state = 123)"
   ]
  },
  {
   "cell_type": "markdown",
   "id": "fe31c5de",
   "metadata": {},
   "source": [
    "# 3. Deep Learning Network"
   ]
  },
  {
   "cell_type": "markdown",
   "id": "c4b2720c",
   "metadata": {},
   "source": [
    "### Building Model"
   ]
  },
  {
   "cell_type": "code",
   "execution_count": 31,
   "id": "6842d401",
   "metadata": {},
   "outputs": [],
   "source": [
    "model = Sequential([\n",
    "    Dense(256, activation = 'relu'),\n",
    "    Dropout(0.2),\n",
    "    Dense(128, activation = 'relu'),\n",
    "    Dense(1, activation = 'sigmoid')\n",
    "])"
   ]
  },
  {
   "cell_type": "code",
   "execution_count": 32,
   "id": "2f11500c",
   "metadata": {},
   "outputs": [],
   "source": [
    "model.compile(optimizer='adam', loss='binary_crossentropy', metrics=[\"accuracy\"])"
   ]
  },
  {
   "cell_type": "code",
   "execution_count": 33,
   "id": "9a0a8f77",
   "metadata": {},
   "outputs": [
    {
     "name": "stdout",
     "output_type": "stream",
     "text": [
      "Epoch 1/20\n",
      "447/447 [==============================] - 1s 2ms/step - loss: 0.5256 - accuracy: 0.7354 - val_loss: 0.4275 - val_accuracy: 0.8096\n",
      "Epoch 2/20\n",
      "447/447 [==============================] - 1s 1ms/step - loss: 0.4166 - accuracy: 0.8158 - val_loss: 0.3917 - val_accuracy: 0.8214\n",
      "Epoch 3/20\n",
      "447/447 [==============================] - 1s 1ms/step - loss: 0.3842 - accuracy: 0.8317 - val_loss: 0.3762 - val_accuracy: 0.8415\n",
      "Epoch 4/20\n",
      "447/447 [==============================] - 1s 1ms/step - loss: 0.3680 - accuracy: 0.8435 - val_loss: 0.3764 - val_accuracy: 0.8421\n",
      "Epoch 5/20\n",
      "447/447 [==============================] - 1s 1ms/step - loss: 0.3585 - accuracy: 0.8505 - val_loss: 0.3795 - val_accuracy: 0.8376\n",
      "Epoch 6/20\n",
      "447/447 [==============================] - 1s 1ms/step - loss: 0.3474 - accuracy: 0.8513 - val_loss: 0.3722 - val_accuracy: 0.8438\n",
      "Epoch 7/20\n",
      "447/447 [==============================] - 1s 1ms/step - loss: 0.3371 - accuracy: 0.8554 - val_loss: 0.4041 - val_accuracy: 0.8281\n",
      "Epoch 8/20\n",
      "447/447 [==============================] - 1s 2ms/step - loss: 0.3255 - accuracy: 0.8632 - val_loss: 0.3711 - val_accuracy: 0.8410\n",
      "Epoch 9/20\n",
      "447/447 [==============================] - 1s 1ms/step - loss: 0.3202 - accuracy: 0.8660 - val_loss: 0.3816 - val_accuracy: 0.8399\n",
      "Epoch 10/20\n",
      "447/447 [==============================] - 1s 1ms/step - loss: 0.3208 - accuracy: 0.8613 - val_loss: 0.3695 - val_accuracy: 0.8404\n",
      "Epoch 11/20\n",
      "447/447 [==============================] - 1s 1ms/step - loss: 0.3068 - accuracy: 0.8671 - val_loss: 0.3825 - val_accuracy: 0.8371\n",
      "Epoch 12/20\n",
      "447/447 [==============================] - 1s 2ms/step - loss: 0.3033 - accuracy: 0.8680 - val_loss: 0.3906 - val_accuracy: 0.8354\n",
      "Epoch 13/20\n",
      "447/447 [==============================] - 1s 1ms/step - loss: 0.3017 - accuracy: 0.8741 - val_loss: 0.3846 - val_accuracy: 0.8432\n",
      "Epoch 14/20\n",
      "447/447 [==============================] - 1s 1ms/step - loss: 0.2893 - accuracy: 0.8764 - val_loss: 0.4095 - val_accuracy: 0.8315\n",
      "Epoch 15/20\n",
      "447/447 [==============================] - 1s 1ms/step - loss: 0.2875 - accuracy: 0.8754 - val_loss: 0.3890 - val_accuracy: 0.8404\n",
      "Epoch 16/20\n",
      "447/447 [==============================] - 1s 1ms/step - loss: 0.2805 - accuracy: 0.8816 - val_loss: 0.3882 - val_accuracy: 0.8443\n",
      "Epoch 17/20\n",
      "447/447 [==============================] - 1s 1ms/step - loss: 0.2782 - accuracy: 0.8820 - val_loss: 0.4228 - val_accuracy: 0.8219\n",
      "Epoch 18/20\n",
      "447/447 [==============================] - 1s 1ms/step - loss: 0.2675 - accuracy: 0.8856 - val_loss: 0.4054 - val_accuracy: 0.8343\n",
      "Epoch 19/20\n",
      "447/447 [==============================] - 1s 1ms/step - loss: 0.2610 - accuracy: 0.8881 - val_loss: 0.4029 - val_accuracy: 0.8315\n",
      "Epoch 20/20\n",
      "447/447 [==============================] - 1s 1ms/step - loss: 0.2608 - accuracy: 0.8872 - val_loss: 0.4036 - val_accuracy: 0.8427\n"
     ]
    }
   ],
   "source": [
    "history_model = model.fit(X_train, y_train, epochs=20, batch_size=16, verbose=1, validation_split=0.2, shuffle=True)"
   ]
  },
  {
   "cell_type": "code",
   "execution_count": 34,
   "id": "05abddb8",
   "metadata": {},
   "outputs": [
    {
     "name": "stdout",
     "output_type": "stream",
     "text": [
      "Model: \"sequential\"\n",
      "_________________________________________________________________\n",
      " Layer (type)                Output Shape              Param #   \n",
      "=================================================================\n",
      " dense (Dense)               (None, 256)               13312     \n",
      "                                                                 \n",
      " dropout (Dropout)           (None, 256)               0         \n",
      "                                                                 \n",
      " dense_1 (Dense)             (None, 128)               32896     \n",
      "                                                                 \n",
      " dense_2 (Dense)             (None, 1)                 129       \n",
      "                                                                 \n",
      "=================================================================\n",
      "Total params: 46,337\n",
      "Trainable params: 46,337\n",
      "Non-trainable params: 0\n",
      "_________________________________________________________________\n"
     ]
    }
   ],
   "source": [
    "model.summary()"
   ]
  },
  {
   "cell_type": "markdown",
   "id": "93138294",
   "metadata": {},
   "source": [
    "### Evaluation"
   ]
  },
  {
   "cell_type": "code",
   "execution_count": 35,
   "id": "156bc8c6",
   "metadata": {},
   "outputs": [
    {
     "data": {
      "image/png": "[encoded data removed]",
      "text/plain": [
       "<Figure size 432x288 with 1 Axes>"
      ]
     },
     "metadata": {
      "needs_background": "light"
     },
     "output_type": "display_data"
    }
   ],
   "source": [
    "train_accuracy = history_model.history['accuracy']\n",
    "train_loss = history_model.history['loss']\n",
    "\n",
    "count = range(len(train_accuracy))\n",
    "plt.plot(count, train_accuracy, label = 'Training accuracy')\n",
    "plt.plot(count, train_loss, label = 'Training Loss')\n",
    "plt.title('epochs vs Training Loss')\n",
    "plt.legend()\n",
    "plt.show()"
   ]
  },
  {
   "cell_type": "code",
   "execution_count": 36,
   "id": "609fd8ff",
   "metadata": {},
   "outputs": [
    {
     "data": {
      "image/png": "[encoded data removed]",
      "text/plain": [
       "<Figure size 432x288 with 1 Axes>"
      ]
     },
     "metadata": {
      "needs_background": "light"
     },
     "output_type": "display_data"
    }
   ],
   "source": [
    "val_accuracy = history_model.history['val_accuracy']\n",
    "val_loss = history_model.history['val_loss']\n",
    "plt.plot(count, val_accuracy, label = 'Validation accuracy')\n",
    "plt.plot(count, val_loss, label = 'Validation Loss')\n",
    "plt.title('epochs vs val Loss')\n",
    "plt.legend()\n",
    "plt.show()"
   ]
  },
  {
   "cell_type": "code",
   "execution_count": 37,
   "id": "2edadd62",
   "metadata": {},
   "outputs": [
    {
     "name": "stdout",
     "output_type": "stream",
     "text": [
      "70/70 [==============================] - 0s 1ms/step - loss: 0.4004 - accuracy: 0.8419\n",
      "\n",
      "Loss = 0.4004031717777252\n",
      "Test Accuracy = 0.8419166803359985\n"
     ]
    }
   ],
   "source": [
    "predictions = model.evaluate(X_test, y_test)\n",
    "\n",
    "print (\"\\nLoss = \" + str(predictions[0]))\n",
    "print (\"Test Accuracy = \" + str(predictions[1]))"
   ]
  },
  {
   "cell_type": "code",
   "execution_count": 38,
   "id": "579f8166",
   "metadata": {},
   "outputs": [
    {
     "name": "stdout",
     "output_type": "stream",
     "text": [
      "70/70 [==============================] - 0s 1ms/step\n"
     ]
    }
   ],
   "source": [
    "y_pred = model.predict(X_test)\n",
    "\n",
    "y_pred[y_pred < 0.5] = 0\n",
    "y_pred[y_pred >= 0.5] = 1\n",
    "\n",
    "y_pred = y_pred.astype('int')"
   ]
  },
  {
   "cell_type": "code",
   "execution_count": 39,
   "id": "48042e80",
   "metadata": {},
   "outputs": [],
   "source": [
    "y_pred = [i[0] for i in y_pred]"
   ]
  },
  {
   "cell_type": "markdown",
   "id": "a54b1be7",
   "metadata": {},
   "source": [
    "### Confusion matrix"
   ]
  },
  {
   "cell_type": "code",
   "execution_count": 40,
   "id": "681b21a3",
   "metadata": {},
   "outputs": [
    {
     "name": "stdout",
     "output_type": "stream",
     "text": [
      "[[914 232]\n",
      " [121 966]]\n"
     ]
    }
   ],
   "source": [
    "confusion_mat = confusion_matrix(y_test, y_pred)\n",
    "print(confusion_mat)"
   ]
  }
 ],
 "metadata": {
  "kernelspec": {
   "display_name": "Python 3 (ipykernel)",
   "language": "python",
   "name": "python3"
  },
  "language_info": {
   "codemirror_mode": {
    "name": "ipython",
    "version": 3
   },
   "file_extension": ".py",
   "mimetype": "text/x-python",
   "name": "python",
   "nbconvert_exporter": "python",
   "pygments_lexer": "ipython3",
   "version": "3.10.4"
  }
 },
 "nbformat": 4,
 "nbformat_minor": 5
}
