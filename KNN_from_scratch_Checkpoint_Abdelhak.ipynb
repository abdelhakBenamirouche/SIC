{
 "cells": [
  {
   "cell_type": "markdown",
   "id": "7af7336e",
   "metadata": {},
   "source": [
    "# Implement KNN from scratch \n",
    "\n",
    "The problem consists of 150 observations of iris flowers from three different species. There are 4 measurements of given flowers: sepal length, sepal width, petal length, and petal width (all in the same unit of centimeters). The predicted attribute is the species, which is either Setosa, Versicolor, or Virginica."
   ]
  },
  {
   "cell_type": "markdown",
   "id": "325e15f6",
   "metadata": {},
   "source": [
    "# 1. Handle Data\n",
    "Open the dataset from CSV and split it into test/train datasets."
   ]
  },
  {
   "cell_type": "code",
   "execution_count": 1,
   "id": "89a77149",
   "metadata": {
    "scrolled": true
   },
   "outputs": [
    {
     "name": "stdout",
     "output_type": "stream",
     "text": [
      "5.1, 3.5, 1.4, 0.2, Iris-setosa\n",
      "4.9, 3.0, 1.4, 0.2, Iris-setosa\n",
      "4.7, 3.2, 1.3, 0.2, Iris-setosa\n",
      "4.6, 3.1, 1.5, 0.2, Iris-setosa\n",
      "5.0, 3.6, 1.4, 0.2, Iris-setosa\n",
      "5.4, 3.9, 1.7, 0.4, Iris-setosa\n",
      "4.6, 3.4, 1.4, 0.3, Iris-setosa\n",
      "5.0, 3.4, 1.5, 0.2, Iris-setosa\n",
      "4.4, 2.9, 1.4, 0.2, Iris-setosa\n",
      "4.9, 3.1, 1.5, 0.1, Iris-setosa\n",
      "5.4, 3.7, 1.5, 0.2, Iris-setosa\n",
      "4.8, 3.4, 1.6, 0.2, Iris-setosa\n",
      "4.8, 3.0, 1.4, 0.1, Iris-setosa\n",
      "4.3, 3.0, 1.1, 0.1, Iris-setosa\n",
      "5.8, 4.0, 1.2, 0.2, Iris-setosa\n",
      "5.7, 4.4, 1.5, 0.4, Iris-setosa\n",
      "5.4, 3.9, 1.3, 0.4, Iris-setosa\n",
      "5.1, 3.5, 1.4, 0.3, Iris-setosa\n",
      "5.7, 3.8, 1.7, 0.3, Iris-setosa\n",
      "5.1, 3.8, 1.5, 0.3, Iris-setosa\n",
      "5.4, 3.4, 1.7, 0.2, Iris-setosa\n",
      "5.1, 3.7, 1.5, 0.4, Iris-setosa\n",
      "4.6, 3.6, 1.0, 0.2, Iris-setosa\n",
      "5.1, 3.3, 1.7, 0.5, Iris-setosa\n",
      "4.8, 3.4, 1.9, 0.2, Iris-setosa\n",
      "5.0, 3.0, 1.6, 0.2, Iris-setosa\n",
      "5.0, 3.4, 1.6, 0.4, Iris-setosa\n",
      "5.2, 3.5, 1.5, 0.2, Iris-setosa\n",
      "5.2, 3.4, 1.4, 0.2, Iris-setosa\n",
      "4.7, 3.2, 1.6, 0.2, Iris-setosa\n",
      "4.8, 3.1, 1.6, 0.2, Iris-setosa\n",
      "5.4, 3.4, 1.5, 0.4, Iris-setosa\n",
      "5.2, 4.1, 1.5, 0.1, Iris-setosa\n",
      "5.5, 4.2, 1.4, 0.2, Iris-setosa\n",
      "4.9, 3.1, 1.5, 0.1, Iris-setosa\n",
      "5.0, 3.2, 1.2, 0.2, Iris-setosa\n",
      "5.5, 3.5, 1.3, 0.2, Iris-setosa\n",
      "4.9, 3.1, 1.5, 0.1, Iris-setosa\n",
      "4.4, 3.0, 1.3, 0.2, Iris-setosa\n",
      "5.1, 3.4, 1.5, 0.2, Iris-setosa\n",
      "5.0, 3.5, 1.3, 0.3, Iris-setosa\n",
      "4.5, 2.3, 1.3, 0.3, Iris-setosa\n",
      "4.4, 3.2, 1.3, 0.2, Iris-setosa\n",
      "5.0, 3.5, 1.6, 0.6, Iris-setosa\n",
      "5.1, 3.8, 1.9, 0.4, Iris-setosa\n",
      "4.8, 3.0, 1.4, 0.3, Iris-setosa\n",
      "5.1, 3.8, 1.6, 0.2, Iris-setosa\n",
      "4.6, 3.2, 1.4, 0.2, Iris-setosa\n",
      "5.3, 3.7, 1.5, 0.2, Iris-setosa\n",
      "5.0, 3.3, 1.4, 0.2, Iris-setosa\n",
      "7.0, 3.2, 4.7, 1.4, Iris-versicolor\n",
      "6.4, 3.2, 4.5, 1.5, Iris-versicolor\n",
      "6.9, 3.1, 4.9, 1.5, Iris-versicolor\n",
      "5.5, 2.3, 4.0, 1.3, Iris-versicolor\n",
      "6.5, 2.8, 4.6, 1.5, Iris-versicolor\n",
      "5.7, 2.8, 4.5, 1.3, Iris-versicolor\n",
      "6.3, 3.3, 4.7, 1.6, Iris-versicolor\n",
      "4.9, 2.4, 3.3, 1.0, Iris-versicolor\n",
      "6.6, 2.9, 4.6, 1.3, Iris-versicolor\n",
      "5.2, 2.7, 3.9, 1.4, Iris-versicolor\n",
      "5.0, 2.0, 3.5, 1.0, Iris-versicolor\n",
      "5.9, 3.0, 4.2, 1.5, Iris-versicolor\n",
      "6.0, 2.2, 4.0, 1.0, Iris-versicolor\n",
      "6.1, 2.9, 4.7, 1.4, Iris-versicolor\n",
      "5.6, 2.9, 3.6, 1.3, Iris-versicolor\n",
      "6.7, 3.1, 4.4, 1.4, Iris-versicolor\n",
      "5.6, 3.0, 4.5, 1.5, Iris-versicolor\n",
      "5.8, 2.7, 4.1, 1.0, Iris-versicolor\n",
      "6.2, 2.2, 4.5, 1.5, Iris-versicolor\n",
      "5.6, 2.5, 3.9, 1.1, Iris-versicolor\n",
      "5.9, 3.2, 4.8, 1.8, Iris-versicolor\n",
      "6.1, 2.8, 4.0, 1.3, Iris-versicolor\n",
      "6.3, 2.5, 4.9, 1.5, Iris-versicolor\n",
      "6.1, 2.8, 4.7, 1.2, Iris-versicolor\n",
      "6.4, 2.9, 4.3, 1.3, Iris-versicolor\n",
      "6.6, 3.0, 4.4, 1.4, Iris-versicolor\n",
      "6.8, 2.8, 4.8, 1.4, Iris-versicolor\n",
      "6.7, 3.0, 5.0, 1.7, Iris-versicolor\n",
      "6.0, 2.9, 4.5, 1.5, Iris-versicolor\n",
      "5.7, 2.6, 3.5, 1.0, Iris-versicolor\n",
      "5.5, 2.4, 3.8, 1.1, Iris-versicolor\n",
      "5.5, 2.4, 3.7, 1.0, Iris-versicolor\n",
      "5.8, 2.7, 3.9, 1.2, Iris-versicolor\n",
      "6.0, 2.7, 5.1, 1.6, Iris-versicolor\n",
      "5.4, 3.0, 4.5, 1.5, Iris-versicolor\n",
      "6.0, 3.4, 4.5, 1.6, Iris-versicolor\n",
      "6.7, 3.1, 4.7, 1.5, Iris-versicolor\n",
      "6.3, 2.3, 4.4, 1.3, Iris-versicolor\n",
      "5.6, 3.0, 4.1, 1.3, Iris-versicolor\n",
      "5.5, 2.5, 4.0, 1.3, Iris-versicolor\n",
      "5.5, 2.6, 4.4, 1.2, Iris-versicolor\n",
      "6.1, 3.0, 4.6, 1.4, Iris-versicolor\n",
      "5.8, 2.6, 4.0, 1.2, Iris-versicolor\n",
      "5.0, 2.3, 3.3, 1.0, Iris-versicolor\n",
      "5.6, 2.7, 4.2, 1.3, Iris-versicolor\n",
      "5.7, 3.0, 4.2, 1.2, Iris-versicolor\n",
      "5.7, 2.9, 4.2, 1.3, Iris-versicolor\n",
      "6.2, 2.9, 4.3, 1.3, Iris-versicolor\n",
      "5.1, 2.5, 3.0, 1.1, Iris-versicolor\n",
      "5.7, 2.8, 4.1, 1.3, Iris-versicolor\n",
      "6.3, 3.3, 6.0, 2.5, Iris-virginica\n",
      "5.8, 2.7, 5.1, 1.9, Iris-virginica\n",
      "7.1, 3.0, 5.9, 2.1, Iris-virginica\n",
      "6.3, 2.9, 5.6, 1.8, Iris-virginica\n",
      "6.5, 3.0, 5.8, 2.2, Iris-virginica\n",
      "7.6, 3.0, 6.6, 2.1, Iris-virginica\n",
      "4.9, 2.5, 4.5, 1.7, Iris-virginica\n",
      "7.3, 2.9, 6.3, 1.8, Iris-virginica\n",
      "6.7, 2.5, 5.8, 1.8, Iris-virginica\n",
      "7.2, 3.6, 6.1, 2.5, Iris-virginica\n",
      "6.5, 3.2, 5.1, 2.0, Iris-virginica\n",
      "6.4, 2.7, 5.3, 1.9, Iris-virginica\n",
      "6.8, 3.0, 5.5, 2.1, Iris-virginica\n",
      "5.7, 2.5, 5.0, 2.0, Iris-virginica\n",
      "5.8, 2.8, 5.1, 2.4, Iris-virginica\n",
      "6.4, 3.2, 5.3, 2.3, Iris-virginica\n",
      "6.5, 3.0, 5.5, 1.8, Iris-virginica\n",
      "7.7, 3.8, 6.7, 2.2, Iris-virginica\n",
      "7.7, 2.6, 6.9, 2.3, Iris-virginica\n",
      "6.0, 2.2, 5.0, 1.5, Iris-virginica\n",
      "6.9, 3.2, 5.7, 2.3, Iris-virginica\n",
      "5.6, 2.8, 4.9, 2.0, Iris-virginica\n",
      "7.7, 2.8, 6.7, 2.0, Iris-virginica\n",
      "6.3, 2.7, 4.9, 1.8, Iris-virginica\n",
      "6.7, 3.3, 5.7, 2.1, Iris-virginica\n",
      "7.2, 3.2, 6.0, 1.8, Iris-virginica\n",
      "6.2, 2.8, 4.8, 1.8, Iris-virginica\n",
      "6.1, 3.0, 4.9, 1.8, Iris-virginica\n",
      "6.4, 2.8, 5.6, 2.1, Iris-virginica\n",
      "7.2, 3.0, 5.8, 1.6, Iris-virginica\n",
      "7.4, 2.8, 6.1, 1.9, Iris-virginica\n",
      "7.9, 3.8, 6.4, 2.0, Iris-virginica\n",
      "6.4, 2.8, 5.6, 2.2, Iris-virginica\n",
      "6.3, 2.8, 5.1, 1.5, Iris-virginica\n",
      "6.1, 2.6, 5.6, 1.4, Iris-virginica\n",
      "7.7, 3.0, 6.1, 2.3, Iris-virginica\n",
      "6.3, 3.4, 5.6, 2.4, Iris-virginica\n",
      "6.4, 3.1, 5.5, 1.8, Iris-virginica\n",
      "6.0, 3.0, 4.8, 1.8, Iris-virginica\n",
      "6.9, 3.1, 5.4, 2.1, Iris-virginica\n",
      "6.7, 3.1, 5.6, 2.4, Iris-virginica\n",
      "6.9, 3.1, 5.1, 2.3, Iris-virginica\n",
      "5.8, 2.7, 5.1, 1.9, Iris-virginica\n",
      "6.8, 3.2, 5.9, 2.3, Iris-virginica\n",
      "6.7, 3.3, 5.7, 2.5, Iris-virginica\n",
      "6.7, 3.0, 5.2, 2.3, Iris-virginica\n",
      "6.3, 2.5, 5.0, 1.9, Iris-virginica\n",
      "6.5, 3.0, 5.2, 2.0, Iris-virginica\n",
      "6.2, 3.4, 5.4, 2.3, Iris-virginica\n",
      "5.9, 3.0, 5.1, 1.8, Iris-virginica\n"
     ]
    }
   ],
   "source": [
    "# The first thing we need to do is load our data file.\n",
    "import csv\n",
    "\n",
    "with open('iris.data.txt', 'r') as csvfile:\n",
    "    lines = csv.reader(csvfile)\n",
    "    for row in lines :\n",
    "        print (', '.join(row))"
   ]
  },
  {
   "cell_type": "code",
   "execution_count": 2,
   "id": "3d9997c4",
   "metadata": {},
   "outputs": [],
   "source": [
    "# Next we need to split the data into a training dataset \n",
    "\n",
    "import csv\n",
    "\n",
    "import random\n",
    "\n",
    "def loadDataset(filename, split, trainingSet=[] , testSet=[]):\n",
    "\n",
    "    with open(filename, 'r') as csvfile:\n",
    "\n",
    "        lines = csv.reader(csvfile)\n",
    "\n",
    "        dataset = list(lines)\n",
    "\n",
    "        for x in range(len(dataset)-1):\n",
    "\n",
    "            for y in range(4):\n",
    "\n",
    "                dataset[x][y] = float(dataset[x][y])\n",
    "\n",
    "            if random.random() < split:\n",
    "\n",
    "                trainingSet.append(dataset[x])\n",
    "\n",
    "            else:\n",
    "\n",
    "                testSet.append(dataset[x])"
   ]
  },
  {
   "cell_type": "code",
   "execution_count": 3,
   "id": "07e5e6c7",
   "metadata": {},
   "outputs": [
    {
     "name": "stdout",
     "output_type": "stream",
     "text": [
      "Train: 89\n",
      "Test: 60\n"
     ]
    }
   ],
   "source": [
    "# We can test this function out with our iris dataset, as follows:\n",
    "\n",
    "trainingSet = []\n",
    "\n",
    "testSet = []\n",
    "\n",
    "loadDataset('iris.data.txt', 0.66, trainingSet, testSet)\n",
    "\n",
    "print('Train: ' + repr(len(trainingSet)))\n",
    "\n",
    "print('Test: ' + repr(len(testSet)))"
   ]
  },
  {
   "cell_type": "markdown",
   "id": "94d81b5e",
   "metadata": {},
   "source": [
    "# 2. Similarity\n",
    "Calculate the distance between two data instances."
   ]
  },
  {
   "cell_type": "code",
   "execution_count": 4,
   "id": "73eb859c",
   "metadata": {},
   "outputs": [],
   "source": [
    "import math"
   ]
  },
  {
   "cell_type": "code",
   "execution_count": 5,
   "id": "45c0bc42",
   "metadata": {},
   "outputs": [],
   "source": [
    "def euclideanDistance(instance1, instance2, length):\n",
    "\n",
    "    return math.dist(instance1[:length], instance2[:length])\n",
    "\n",
    "# Or\n",
    "\n",
    "def euclideanDistance(instance1, instance2, length):\n",
    "    \n",
    "    return (pow(sum(pow(abs(val1-val2), 2) for val1, val2 in zip(instance1[:length], instance2[:length])), 1/2))"
   ]
  },
  {
   "cell_type": "code",
   "execution_count": 6,
   "id": "52bb00a7",
   "metadata": {},
   "outputs": [
    {
     "name": "stdout",
     "output_type": "stream",
     "text": [
      "Distance: 3.4641016151377544\n"
     ]
    }
   ],
   "source": [
    "# We can test this function with some sample data, as follows:\n",
    "\n",
    "data1 = [2, 2, 2, 'a']\n",
    "\n",
    "data2 = [4, 4, 4, 'b']\n",
    "\n",
    "distance = euclideanDistance(data1, data2, 3)\n",
    "\n",
    "print('Distance: ' + repr(distance))"
   ]
  },
  {
   "cell_type": "markdown",
   "id": "b70762d6",
   "metadata": {},
   "source": [
    "# 3. Neighbors\n",
    "Locate k for most similar data instances."
   ]
  },
  {
   "cell_type": "code",
   "execution_count": 7,
   "id": "e4dda6bd",
   "metadata": {},
   "outputs": [],
   "source": [
    "import operator\n",
    "\n",
    "def getNeighbors(trainingSet, testInstance, k):\n",
    "\n",
    "    distances = []\n",
    "\n",
    "    length = len(testInstance) - 1\n",
    "\n",
    "    for x in range(len(trainingSet)):\n",
    "\n",
    "        dist = euclideanDistance(testInstance, trainingSet[x], length)\n",
    "\n",
    "        distances.append((trainingSet[x], dist))\n",
    "\n",
    "        distances.sort(key = operator.itemgetter(1))\n",
    "\n",
    "    neighbors = []\n",
    "\n",
    "    for x in range(k):\n",
    "\n",
    "        neighbors.append(distances[x][0])\n",
    "\n",
    "    return neighbors"
   ]
  },
  {
   "cell_type": "code",
   "execution_count": 8,
   "id": "1e198796",
   "metadata": {},
   "outputs": [
    {
     "name": "stdout",
     "output_type": "stream",
     "text": [
      "[[4, 4, 4, 'b']]\n"
     ]
    }
   ],
   "source": [
    "# We can test out this function as follows:\n",
    "\n",
    "trainSet = [[2, 2, 2, 'a'], [4, 4, 4, 'b']]\n",
    "\n",
    "testInstance = [5, 5, 5]\n",
    "\n",
    "k = 1\n",
    "\n",
    "neighbors = getNeighbors(trainSet, testInstance, k)\n",
    "\n",
    "print(neighbors)"
   ]
  },
  {
   "cell_type": "code",
   "execution_count": 9,
   "id": "9d31073b",
   "metadata": {},
   "outputs": [
    {
     "name": "stdout",
     "output_type": "stream",
     "text": [
      "[[4, 4, 4, 'b'], [3, 4, 2, 'c'], [3, 6, 4, 'e']]\n"
     ]
    }
   ],
   "source": [
    "# Another test\n",
    "\n",
    "trainSet = [[2, 2, 2, 'a'], [4, 4, 4, 'b'], [3, 4, 2, 'c'], [5, 1, 4, 'd'], [3, 6, 4, 'e']]\n",
    "\n",
    "testInstance = [5, 5, 5]\n",
    "\n",
    "k = 3\n",
    "\n",
    "neighbors = getNeighbors(trainSet, testInstance, k)\n",
    "\n",
    "print(neighbors)"
   ]
  },
  {
   "cell_type": "markdown",
   "id": "c23546ba",
   "metadata": {},
   "source": [
    "# 4. Response\n",
    "Generate a response from a set of data instances."
   ]
  },
  {
   "cell_type": "code",
   "execution_count": 10,
   "id": "d13efd93",
   "metadata": {},
   "outputs": [],
   "source": [
    "import operator"
   ]
  },
  {
   "cell_type": "code",
   "execution_count": 11,
   "id": "3e8fe129",
   "metadata": {},
   "outputs": [],
   "source": [
    "def getResponse(neighbors):\n",
    "\n",
    "    classVotes = {}\n",
    "\n",
    "    for x in range(len(neighbors)):\n",
    "\n",
    "        response = neighbors[x][-1]\n",
    "\n",
    "        if response in classVotes:\n",
    "\n",
    "            classVotes[response] += 1\n",
    "        \n",
    "        else:\n",
    "            classVotes[response] = 1\n",
    "\n",
    "    sortedVotes = sorted(classVotes.items(), key = operator.itemgetter(1), reverse = True)\n",
    "\n",
    "    return sortedVotes[0][0]"
   ]
  },
  {
   "cell_type": "code",
   "execution_count": 12,
   "id": "4a2c2136",
   "metadata": {},
   "outputs": [
    {
     "name": "stdout",
     "output_type": "stream",
     "text": [
      "a\n"
     ]
    }
   ],
   "source": [
    "# We can test out this function with some test neighbors, as follows:\n",
    "\n",
    "neighbors = [[1,1,1,'a'], [2,2,2,'a'], [3,3,3,'b']]\n",
    "\n",
    "response = getResponse(neighbors)\n",
    "\n",
    "print(response)"
   ]
  },
  {
   "cell_type": "markdown",
   "id": "1facfffd",
   "metadata": {},
   "source": [
    "# 5. Accuracy\n",
    "Summarize the accuracy of predictions."
   ]
  },
  {
   "cell_type": "code",
   "execution_count": 13,
   "id": "57801165",
   "metadata": {},
   "outputs": [],
   "source": [
    "def getAccuracy(testSet, predictions):\n",
    "    \n",
    "    correct = 0\n",
    "    \n",
    "    for i in range(len(testSet)):\n",
    "        \n",
    "        if testSet[i][-1] == predictions[i]:\n",
    "            \n",
    "            correct += 1\n",
    "\n",
    "    return (correct/float(len(testSet))) * 100.0"
   ]
  },
  {
   "cell_type": "code",
   "execution_count": 14,
   "id": "97a0b574",
   "metadata": {},
   "outputs": [
    {
     "name": "stdout",
     "output_type": "stream",
     "text": [
      "66.66666666666666\n"
     ]
    }
   ],
   "source": [
    "# We can test this function with a test dataset and predictions, as follows:\n",
    "\n",
    "testSet = [[1,1,1,'a'], [2,2,2,'a'], [3,3,3,'b']]\n",
    "\n",
    "predictions = ['a', 'a', 'a']\n",
    "\n",
    "accuracy = getAccuracy(testSet, predictions)\n",
    "\n",
    "print(accuracy)"
   ]
  },
  {
   "cell_type": "markdown",
   "id": "a1dd41c8",
   "metadata": {},
   "source": [
    "# 6. Main\n",
    "Tie it all together."
   ]
  },
  {
   "cell_type": "code",
   "execution_count": 15,
   "id": "9d5a14ed",
   "metadata": {},
   "outputs": [
    {
     "name": "stdout",
     "output_type": "stream",
     "text": [
      "Train: 96\n",
      "Test: 53\n"
     ]
    }
   ],
   "source": [
    "# Spliting the data\n",
    "\n",
    "trainingSet = []\n",
    "\n",
    "testSet = []\n",
    "\n",
    "loadDataset('iris.data.txt', 0.66, trainingSet, testSet)\n",
    "\n",
    "print('Train: ' + repr(len(trainingSet)))\n",
    "\n",
    "print('Test: ' + repr(len(testSet)))"
   ]
  },
  {
   "cell_type": "code",
   "execution_count": 16,
   "id": "1899822c",
   "metadata": {},
   "outputs": [],
   "source": [
    "# Prediction using knn algorithm\n",
    "\n",
    "predictions = []\n",
    "\n",
    "for instance in testSet:\n",
    "    \n",
    "    neighbors = getNeighbors(trainingSet, instance, k)\n",
    "    \n",
    "    response = getResponse(neighbors)\n",
    "    \n",
    "    predictions.append(response)"
   ]
  },
  {
   "cell_type": "code",
   "execution_count": 17,
   "id": "7b9f0bde",
   "metadata": {},
   "outputs": [
    {
     "name": "stdout",
     "output_type": "stream",
     "text": [
      "accuracy : 98.113\n"
     ]
    }
   ],
   "source": [
    "# evaluating the accuracy of predictions\n",
    "\n",
    "accuracy = getAccuracy(testSet, predictions)\n",
    "\n",
    "print(\"accuracy : {}\".format(round(accuracy,3)))"
   ]
  },
  {
   "cell_type": "markdown",
   "id": "e1c2a7fe",
   "metadata": {},
   "source": [
    "# 7. Another distance metric"
   ]
  },
  {
   "cell_type": "code",
   "execution_count": 18,
   "id": "56e12ca7",
   "metadata": {},
   "outputs": [],
   "source": [
    "# We need to import the distance module from scipy\n",
    "\n",
    "from scipy.spatial import distance"
   ]
  },
  {
   "cell_type": "markdown",
   "id": "fc2eeb42",
   "metadata": {},
   "source": [
    "## Manhattan Distance"
   ]
  },
  {
   "cell_type": "code",
   "execution_count": 19,
   "id": "378da667",
   "metadata": {},
   "outputs": [
    {
     "name": "stdout",
     "output_type": "stream",
     "text": [
      "The Manhattan Distance between [1, 2, 3] and [4, 5, 6] is:  9\n"
     ]
    }
   ],
   "source": [
    "# computing the manhattan distance using distance.cityblock from scipy\n",
    "\n",
    "point_1 = [1, 2, 3]\n",
    "\n",
    "point_2 = [4, 5, 6]\n",
    "\n",
    "manhattan_distance = distance.cityblock(point_1, point_2)\n",
    "\n",
    "print('The Manhattan Distance between', point_1, 'and', point_2, 'is: ', manhattan_distance)"
   ]
  },
  {
   "cell_type": "code",
   "execution_count": 20,
   "id": "b588af16",
   "metadata": {},
   "outputs": [],
   "source": [
    "# Function to compute the Manhattan Distance\n",
    "\n",
    "def manhattanDistance(a, b):\n",
    "    \n",
    "    return sum(abs(val1-val2) for val1, val2 in zip(a,b))"
   ]
  },
  {
   "cell_type": "code",
   "execution_count": 21,
   "id": "a3dfb2d0",
   "metadata": {},
   "outputs": [
    {
     "name": "stdout",
     "output_type": "stream",
     "text": [
      "The Manhattan Distance between [1, 2, 3] and [4, 5, 6] is:  9\n"
     ]
    }
   ],
   "source": [
    "# Example\n",
    "\n",
    "point_1 = [1, 2, 3]\n",
    "\n",
    "point_2 = [4, 5, 6]\n",
    "\n",
    "manhattan_distance = manhattanDistance(point_1, point_2)\n",
    "\n",
    "print('The Manhattan Distance between', point_1, 'and', point_2, 'is: ', manhattan_distance)"
   ]
  },
  {
   "cell_type": "markdown",
   "id": "d7d1926d",
   "metadata": {},
   "source": [
    "## Minkowski Distance"
   ]
  },
  {
   "cell_type": "code",
   "execution_count": 22,
   "id": "48b1865d",
   "metadata": {},
   "outputs": [
    {
     "name": "stdout",
     "output_type": "stream",
     "text": [
      "The Minkowski Distance between [1, 2, 3] and [4, 5, 6] is:  4.3267487109222245\n"
     ]
    }
   ],
   "source": [
    "# computing the minkowski distance using distance.minkowski from scipy\n",
    "\n",
    "minkowski_distance = distance.minkowski(point_1, point_2, p = 3)\n",
    "\n",
    "print('The Minkowski Distance between', point_1, 'and', point_2, 'is: ', minkowski_distance)"
   ]
  },
  {
   "cell_type": "code",
   "execution_count": 23,
   "id": "7e27b5da",
   "metadata": {},
   "outputs": [],
   "source": [
    "# Function to compute the Minkowski Distance\n",
    "\n",
    "def minkowskiDistance(a, b, p):\n",
    "    \n",
    "    return (pow(sum(pow(abs(val1-val2), p) for val1, val2 in zip(a, b)), 1/p))"
   ]
  },
  {
   "cell_type": "code",
   "execution_count": 24,
   "id": "18855f32",
   "metadata": {},
   "outputs": [
    {
     "name": "stdout",
     "output_type": "stream",
     "text": [
      "The Minkowski Distance between [1, 2, 3] and [4, 5, 6] is:  4.3267487109222245\n"
     ]
    }
   ],
   "source": [
    "# Example\n",
    "\n",
    "point_1 = [1, 2, 3]\n",
    "\n",
    "point_2 = [4, 5, 6]\n",
    "\n",
    "minkowski_distance = minkowskiDistance(point_1, point_2, p = 3)\n",
    "\n",
    "print('The Minkowski Distance between', point_1, 'and', point_2, 'is: ', minkowski_distance)"
   ]
  }
 ],
 "metadata": {
  "kernelspec": {
   "display_name": "Python 3 (ipykernel)",
   "language": "python",
   "name": "python3"
  },
  "language_info": {
   "codemirror_mode": {
    "name": "ipython",
    "version": 3
   },
   "file_extension": ".py",
   "mimetype": "text/x-python",
   "name": "python",
   "nbconvert_exporter": "python",
   "pygments_lexer": "ipython3",
   "version": "3.10.4"
  }
 },
 "nbformat": 4,
 "nbformat_minor": 5
}
